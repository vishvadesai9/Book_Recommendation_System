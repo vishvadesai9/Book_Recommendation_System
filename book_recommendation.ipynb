{
  "nbformat": 4,
  "nbformat_minor": 0,
  "metadata": {
    "colab": {
      "name": "TASK1.ipynb",
      "provenance": [],
      "collapsed_sections": [],
      "include_colab_link": true
    },
    "kernelspec": {
      "name": "python3",
      "display_name": "Python 3"
    }
  },
  "cells": [
    {
      "cell_type": "markdown",
      "metadata": {
        "id": "view-in-github",
        "colab_type": "text"
      },
      "source": [
        "<a href=\"https://colab.research.google.com/github/vishvadesai9/Book_Recommendation_System/blob/main/book_recommendation.ipynb\" target=\"_parent\"><img src=\"https://colab.research.google.com/assets/colab-badge.svg\" alt=\"Open In Colab\"/></a>"
      ]
    },
    {
      "cell_type": "code",
      "metadata": {
        "id": "k-2vvuh13BYB",
        "colab": {
          "base_uri": "https://localhost:8080/"
        },
        "outputId": "d15d0868-fc16-4ed1-ba94-ccbe34c76c66"
      },
      "source": [
        "pip install gdown\n"
      ],
      "execution_count": null,
      "outputs": [
        {
          "output_type": "stream",
          "text": [
            "Requirement already satisfied: gdown in /usr/local/lib/python3.7/dist-packages (3.6.4)\n",
            "Requirement already satisfied: tqdm in /usr/local/lib/python3.7/dist-packages (from gdown) (4.41.1)\n",
            "Requirement already satisfied: six in /usr/local/lib/python3.7/dist-packages (from gdown) (1.15.0)\n",
            "Requirement already satisfied: requests in /usr/local/lib/python3.7/dist-packages (from gdown) (2.23.0)\n",
            "Requirement already satisfied: certifi>=2017.4.17 in /usr/local/lib/python3.7/dist-packages (from requests->gdown) (2020.12.5)\n",
            "Requirement already satisfied: idna<3,>=2.5 in /usr/local/lib/python3.7/dist-packages (from requests->gdown) (2.10)\n",
            "Requirement already satisfied: urllib3!=1.25.0,!=1.25.1,<1.26,>=1.21.1 in /usr/local/lib/python3.7/dist-packages (from requests->gdown) (1.24.3)\n",
            "Requirement already satisfied: chardet<4,>=3.0.2 in /usr/local/lib/python3.7/dist-packages (from requests->gdown) (3.0.4)\n"
          ],
          "name": "stdout"
        }
      ]
    },
    {
      "cell_type": "code",
      "metadata": {
        "id": "WgRSnwL14iNq",
        "colab": {
          "base_uri": "https://localhost:8080/"
        },
        "outputId": "71c2bc83-ff8e-4fc5-ec83-408d55e478de"
      },
      "source": [
        "!gdown 'https://drive.google.com/uc?id=1TLmSvzHvTLLLMjMoQdkx6pBWon-4bli7'\n",
        "\n",
        "\n"
      ],
      "execution_count": null,
      "outputs": [
        {
          "output_type": "stream",
          "text": [
            "Downloading...\n",
            "From: https://drive.google.com/uc?id=1TLmSvzHvTLLLMjMoQdkx6pBWon-4bli7\n",
            "To: /content/goodreads_book_works.json.gz\n",
            "74.9MB [00:00, 81.6MB/s]\n"
          ],
          "name": "stdout"
        }
      ]
    },
    {
      "cell_type": "code",
      "metadata": {
        "id": "2eZD5Ma1476H",
        "colab": {
          "base_uri": "https://localhost:8080/"
        },
        "outputId": "722abe8e-e71a-44b1-d6d4-93e63b392d03"
      },
      "source": [
        "!gdown 'https://drive.google.com/uc?id=19cdwyXwfXx_HDIgxXaHzH0mrx8nMyLvC'"
      ],
      "execution_count": null,
      "outputs": [
        {
          "output_type": "stream",
          "text": [
            "Downloading...\n",
            "From: https://drive.google.com/uc?id=19cdwyXwfXx_HDIgxXaHzH0mrx8nMyLvC\n",
            "To: /content/goodreads_book_authors.json.gz\n",
            "17.9MB [00:00, 49.1MB/s]\n"
          ],
          "name": "stdout"
        }
      ]
    },
    {
      "cell_type": "code",
      "metadata": {
        "id": "opn8J5ap5Jsa",
        "colab": {
          "base_uri": "https://localhost:8080/"
        },
        "outputId": "31bd04bf-309e-44e9-c91d-91d20b3ff6dd"
      },
      "source": [
        "!gdown 'https://drive.google.com/uc?id=1op8D4e5BaxU2JcPUgxM3ZqrodajryFBb'"
      ],
      "execution_count": null,
      "outputs": [
        {
          "output_type": "stream",
          "text": [
            "Downloading...\n",
            "From: https://drive.google.com/uc?id=1op8D4e5BaxU2JcPUgxM3ZqrodajryFBb\n",
            "To: /content/goodreads_book_series.json.gz\n",
            "28.3MB [00:00, 68.0MB/s]\n"
          ],
          "name": "stdout"
        }
      ]
    },
    {
      "cell_type": "code",
      "metadata": {
        "colab": {
          "base_uri": "https://localhost:8080/"
        },
        "id": "I0_dtWIp5PAt",
        "outputId": "949f060d-a2af-4db2-a223-8d2ad7eb512e"
      },
      "source": [
        "!gdown 'https://drive.google.com/uc?id=1LXpK1UfqtP89H1tYy0pBGHjYk8IhigUK'"
      ],
      "execution_count": null,
      "outputs": [
        {
          "output_type": "stream",
          "text": [
            "Downloading...\n",
            "From: https://drive.google.com/uc?id=1LXpK1UfqtP89H1tYy0pBGHjYk8IhigUK\n",
            "To: /content/goodreads_books.json.gz\n",
            "2.08GB [00:19, 105MB/s]\n"
          ],
          "name": "stdout"
        }
      ]
    },
    {
      "cell_type": "code",
      "metadata": {
        "colab": {
          "base_uri": "https://localhost:8080/"
        },
        "id": "rHlWg84P5ebw",
        "outputId": "93b7fcd3-f87c-4ca5-d1c7-5670c76d9d5f"
      },
      "source": [
        "!gdown 'https://drive.google.com/uc?id=1CHTAaNwyzvbi1TR08MJrJ03BxA266Yxr'"
      ],
      "execution_count": null,
      "outputs": [
        {
          "output_type": "stream",
          "text": [
            "Downloading...\n",
            "From: https://drive.google.com/uc?id=1CHTAaNwyzvbi1TR08MJrJ03BxA266Yxr\n",
            "To: /content/book_id_map.csv\n",
            "37.8MB [00:00, 91.3MB/s]\n"
          ],
          "name": "stdout"
        }
      ]
    },
    {
      "cell_type": "code",
      "metadata": {
        "colab": {
          "base_uri": "https://localhost:8080/"
        },
        "id": "U3BMKBxX5qce",
        "outputId": "075c06f8-2b1f-4c5d-a6ca-dba2916e234b"
      },
      "source": [
        "!gdown 'https://drive.google.com/uc?id=15ax-h0Oi_Oyee8gY_aAQN6odoijmiz6Q'"
      ],
      "execution_count": null,
      "outputs": [
        {
          "output_type": "stream",
          "text": [
            "Downloading...\n",
            "From: https://drive.google.com/uc?id=15ax-h0Oi_Oyee8gY_aAQN6odoijmiz6Q\n",
            "To: /content/user_id_map.csv\n",
            "34.9MB [00:00, 95.9MB/s]\n"
          ],
          "name": "stdout"
        }
      ]
    },
    {
      "cell_type": "code",
      "metadata": {
        "colab": {
          "base_uri": "https://localhost:8080/"
        },
        "id": "heZweltz5wVS",
        "outputId": "1647383f-1449-423e-cfcd-dd20108ca900"
      },
      "source": [
        "!gdown 'https://drive.google.com/uc?id=1zmylV7XW2dfQVCLeg1LbllfQtHD2KUon'"
      ],
      "execution_count": null,
      "outputs": [
        {
          "output_type": "stream",
          "text": [
            "Downloading...\n",
            "From: https://drive.google.com/uc?id=1zmylV7XW2dfQVCLeg1LbllfQtHD2KUon\n",
            "To: /content/goodreads_interactions.csv\n",
            "4.32GB [01:05, 66.1MB/s]\n"
          ],
          "name": "stdout"
        }
      ]
    },
    {
      "cell_type": "code",
      "metadata": {
        "colab": {
          "base_uri": "https://localhost:8080/"
        },
        "id": "MqtQ_4EPPYtB",
        "outputId": "0df4d5af-341c-4417-ce47-9ad85bed2624"
      },
      "source": [
        "!gdown 'https://drive.google.com/uc?id=1ah0_KpUterVi-AHxJ03iKD6O0NfbK0md'\n"
      ],
      "execution_count": null,
      "outputs": [
        {
          "output_type": "stream",
          "text": [
            "Downloading...\n",
            "From: https://drive.google.com/uc?id=1ah0_KpUterVi-AHxJ03iKD6O0NfbK0md\n",
            "To: /content/goodreads_book_genres_initial.json.gz\n",
            "24.3MB [00:00, 36.4MB/s]\n"
          ],
          "name": "stdout"
        }
      ]
    },
    {
      "cell_type": "code",
      "metadata": {
        "colab": {
          "base_uri": "https://localhost:8080/"
        },
        "id": "oOhYQdGtRWBi",
        "outputId": "0fc12be9-f0df-4118-d029-e0d8160d4b3b"
      },
      "source": [
        "!gdown 'https://drive.google.com/uc?id=1pQnXa7DWLdeUpvUFsKusYzwbA5CAAZx7'\n"
      ],
      "execution_count": null,
      "outputs": [
        {
          "output_type": "stream",
          "text": [
            "Downloading...\n",
            "From: https://drive.google.com/uc?id=1pQnXa7DWLdeUpvUFsKusYzwbA5CAAZx7\n",
            "To: /content/goodreads_reviews_dedup.json.gz\n",
            "5.34GB [01:14, 71.6MB/s]\n"
          ],
          "name": "stdout"
        }
      ]
    },
    {
      "cell_type": "code",
      "metadata": {
        "id": "WjE461X551Na"
      },
      "source": [
        "import pandas as pd\n",
        "import numpy as np\n"
      ],
      "execution_count": null,
      "outputs": []
    },
    {
      "cell_type": "code",
      "metadata": {
        "id": "5iYZI-iE6YQn"
      },
      "source": [
        "def load_data(file_name, head = 500):\n",
        "    count = 0\n",
        "    data = []\n",
        "    with gzip.open(file_name) as fin:\n",
        "        for l in fin:\n",
        "            d = json.loads(l)\n",
        "            count += 1\n",
        "            data.append(d)\n",
        "            \n",
        "            # break if reaches the 100th line\n",
        "            if (head is not None) and (count > head):\n",
        "                break\n",
        "    return data"
      ],
      "execution_count": null,
      "outputs": []
    },
    {
      "cell_type": "markdown",
      "metadata": {
        "id": "ivBTQmxy_kcE"
      },
      "source": [
        "LOAD BOOKS DATA"
      ]
    },
    {
      "cell_type": "code",
      "metadata": {
        "id": "EP9A6PlC798y",
        "colab": {
          "base_uri": "https://localhost:8080/",
          "height": 218
        },
        "outputId": "d3c2e35d-66de-46bf-dee4-f64804b4a06f"
      },
      "source": [
        "import gzip\n",
        "import json\n",
        "import re\n",
        "import os\n",
        "import sys\n",
        "books = load_data(os.path.join('goodreads_books.json.gz'))\n",
        "books"
      ],
      "execution_count": 1,
      "outputs": [
        {
          "output_type": "error",
          "ename": "NameError",
          "evalue": "ignored",
          "traceback": [
            "\u001b[0;31m---------------------------------------------------------------------------\u001b[0m",
            "\u001b[0;31mNameError\u001b[0m                                 Traceback (most recent call last)",
            "\u001b[0;32m<ipython-input-1-3ff0689cb8cb>\u001b[0m in \u001b[0;36m<module>\u001b[0;34m()\u001b[0m\n\u001b[1;32m      4\u001b[0m \u001b[0;32mimport\u001b[0m \u001b[0mos\u001b[0m\u001b[0;34m\u001b[0m\u001b[0;34m\u001b[0m\u001b[0m\n\u001b[1;32m      5\u001b[0m \u001b[0;32mimport\u001b[0m \u001b[0msys\u001b[0m\u001b[0;34m\u001b[0m\u001b[0;34m\u001b[0m\u001b[0m\n\u001b[0;32m----> 6\u001b[0;31m \u001b[0mbooks\u001b[0m \u001b[0;34m=\u001b[0m \u001b[0mload_data\u001b[0m\u001b[0;34m(\u001b[0m\u001b[0mos\u001b[0m\u001b[0;34m.\u001b[0m\u001b[0mpath\u001b[0m\u001b[0;34m.\u001b[0m\u001b[0mjoin\u001b[0m\u001b[0;34m(\u001b[0m\u001b[0;34m'goodreads_books.json.gz'\u001b[0m\u001b[0;34m)\u001b[0m\u001b[0;34m)\u001b[0m\u001b[0;34m\u001b[0m\u001b[0;34m\u001b[0m\u001b[0m\n\u001b[0m\u001b[1;32m      7\u001b[0m \u001b[0mbooks\u001b[0m\u001b[0;34m\u001b[0m\u001b[0;34m\u001b[0m\u001b[0m\n",
            "\u001b[0;31mNameError\u001b[0m: name 'load_data' is not defined"
          ]
        }
      ]
    },
    {
      "cell_type": "markdown",
      "metadata": {
        "id": "zj-vtzre_pSz"
      },
      "source": [
        "EXTRACT FEATURES FROM BOOKS DATA"
      ]
    },
    {
      "cell_type": "code",
      "metadata": {
        "id": "jbxSjp7sId-t"
      },
      "source": [
        "rating=[]\n",
        "book_id=[]\n",
        "title=[]\n",
        "pub_year=[]\n",
        "description=[]\n",
        "author_id=[]\n",
        "format= []\n",
        "country = []\n",
        "e_book =[]\n",
        "lang=[]\n",
        "publisher = []\n",
        "for i in books:\n",
        "  for j in i:\n",
        "    if j == 'average_rating':\n",
        "      rating.append(float(i[j]))\n",
        "    if j == 'book_id':\n",
        "      book_id.append(int(i[j]))\n",
        "    if j == 'description':\n",
        "      description.append(i[j])\n",
        "    if j == 'title':\n",
        "      title.append(i[j])\n",
        "    if j == 'format':\n",
        "      format.append(i[j])\n",
        "    if j == 'is_ebook':\n",
        "      e_book.append(i[j])\n",
        "    if j == 'language_code':\n",
        "      lang.append(i[j])\n",
        "    if j == 'publisher':\n",
        "      publisher.append(i[j])\n",
        "    if j == 'authors':\n",
        "      for k in i[j]:\n",
        "        for m in k:\n",
        "          if m == 'author_id':\n",
        "            author_id.append(int(k[m]))\n",
        "\n",
        "\n"
      ],
      "execution_count": null,
      "outputs": []
    },
    {
      "cell_type": "markdown",
      "metadata": {
        "id": "wrZkbKgZ_8Ik"
      },
      "source": [
        "LOAD AUTHORS DATA"
      ]
    },
    {
      "cell_type": "code",
      "metadata": {
        "id": "R-xmXfK48My4"
      },
      "source": [
        "authors = load_data(os.path.join('goodreads_book_authors.json.gz'))\n",
        "authors"
      ],
      "execution_count": null,
      "outputs": []
    },
    {
      "cell_type": "markdown",
      "metadata": {
        "id": "PSO2gIujABiE"
      },
      "source": [
        "EXTARCT AUTHOR FEATURES"
      ]
    },
    {
      "cell_type": "code",
      "metadata": {
        "colab": {
          "base_uri": "https://localhost:8080/"
        },
        "id": "Nbk-4xF9UdBR",
        "outputId": "4e4398d4-14b8-4697-bee7-285dd044b6de"
      },
      "source": [
        "author_rating=[]\n",
        "for i in authors:\n",
        "  for j in i:\n",
        "    if j == 'average_rating':\n",
        "      author_rating.append(float(i[j]))\n",
        "len(author_rating)"
      ],
      "execution_count": null,
      "outputs": [
        {
          "output_type": "execute_result",
          "data": {
            "text/plain": [
              "501"
            ]
          },
          "metadata": {
            "tags": []
          },
          "execution_count": 16
        }
      ]
    },
    {
      "cell_type": "code",
      "metadata": {
        "id": "V1OM1CDIQISy"
      },
      "source": [
        "author_rating=[]\n",
        "author_name=[]\n",
        "for i in authors:\n",
        "  for j in i:\n",
        "    if j == 'average_rating':\n",
        "      author_rating.append(float(i[j]))\n",
        "    if j == 'name':\n",
        "      author_name.append(i[j])\n",
        "    if j == 'description':\n",
        "      description.append(i[j])\n",
        "    if j == 'title':\n",
        "      title.append(i[j])"
      ],
      "execution_count": null,
      "outputs": []
    },
    {
      "cell_type": "markdown",
      "metadata": {
        "id": "QKUjEBJ_ALld"
      },
      "source": [
        "CREATE DATAFRAME"
      ]
    },
    {
      "cell_type": "code",
      "metadata": {
        "colab": {
          "base_uri": "https://localhost:8080/",
          "height": 404
        },
        "id": "GqlDdGO7Rz54",
        "outputId": "117e78a6-53f9-49c3-f897-9fa28f76ac8c"
      },
      "source": [
        "df = pd.DataFrame(list(zip(book_id,title,description,rating,author_id,author_rating,lang,format)),columns=['book_id','title','description','rating','author_id','author_rating','language','format'])\n",
        "df"
      ],
      "execution_count": null,
      "outputs": [
        {
          "output_type": "execute_result",
          "data": {
            "text/html": [
              "<div>\n",
              "<style scoped>\n",
              "    .dataframe tbody tr th:only-of-type {\n",
              "        vertical-align: middle;\n",
              "    }\n",
              "\n",
              "    .dataframe tbody tr th {\n",
              "        vertical-align: top;\n",
              "    }\n",
              "\n",
              "    .dataframe thead th {\n",
              "        text-align: right;\n",
              "    }\n",
              "</style>\n",
              "<table border=\"1\" class=\"dataframe\">\n",
              "  <thead>\n",
              "    <tr style=\"text-align: right;\">\n",
              "      <th></th>\n",
              "      <th>book_id</th>\n",
              "      <th>title</th>\n",
              "      <th>description</th>\n",
              "      <th>rating</th>\n",
              "      <th>author_id</th>\n",
              "      <th>author_rating</th>\n",
              "      <th>language</th>\n",
              "      <th>format</th>\n",
              "    </tr>\n",
              "  </thead>\n",
              "  <tbody>\n",
              "    <tr>\n",
              "      <th>0</th>\n",
              "      <td>5333265</td>\n",
              "      <td>W.C. Fields: A Life on Film</td>\n",
              "      <td></td>\n",
              "      <td>4.00</td>\n",
              "      <td>604031</td>\n",
              "      <td>3.98</td>\n",
              "      <td></td>\n",
              "      <td>Paperback</td>\n",
              "    </tr>\n",
              "    <tr>\n",
              "      <th>1</th>\n",
              "      <td>1333909</td>\n",
              "      <td>Good Harbor</td>\n",
              "      <td>Anita Diamant's international bestseller \"The ...</td>\n",
              "      <td>3.23</td>\n",
              "      <td>626222</td>\n",
              "      <td>4.08</td>\n",
              "      <td></td>\n",
              "      <td>Audio CD</td>\n",
              "    </tr>\n",
              "    <tr>\n",
              "      <th>2</th>\n",
              "      <td>7327624</td>\n",
              "      <td>The Unschooled Wizard (Sun Wolf and Starhawk, ...</td>\n",
              "      <td>Omnibus book club edition containing the Ladie...</td>\n",
              "      <td>4.03</td>\n",
              "      <td>10333</td>\n",
              "      <td>3.92</td>\n",
              "      <td>eng</td>\n",
              "      <td>Hardcover</td>\n",
              "    </tr>\n",
              "    <tr>\n",
              "      <th>3</th>\n",
              "      <td>6066819</td>\n",
              "      <td>Best Friends Forever</td>\n",
              "      <td>Addie Downs and Valerie Adler were eight when ...</td>\n",
              "      <td>3.49</td>\n",
              "      <td>9212</td>\n",
              "      <td>3.68</td>\n",
              "      <td>eng</td>\n",
              "      <td>Hardcover</td>\n",
              "    </tr>\n",
              "    <tr>\n",
              "      <th>4</th>\n",
              "      <td>287140</td>\n",
              "      <td>Runic Astrology: Starcraft and Timekeeping in ...</td>\n",
              "      <td></td>\n",
              "      <td>3.40</td>\n",
              "      <td>149918</td>\n",
              "      <td>3.82</td>\n",
              "      <td></td>\n",
              "      <td></td>\n",
              "    </tr>\n",
              "    <tr>\n",
              "      <th>...</th>\n",
              "      <td>...</td>\n",
              "      <td>...</td>\n",
              "      <td>...</td>\n",
              "      <td>...</td>\n",
              "      <td>...</td>\n",
              "      <td>...</td>\n",
              "      <td>...</td>\n",
              "      <td>...</td>\n",
              "    </tr>\n",
              "    <tr>\n",
              "      <th>496</th>\n",
              "      <td>12158822</td>\n",
              "      <td>La acabadora</td>\n",
              "      <td>Siguiendo una costumbre sarda cuyos origenes s...</td>\n",
              "      <td>3.89</td>\n",
              "      <td>117366</td>\n",
              "      <td>2.71</td>\n",
              "      <td>spa</td>\n",
              "      <td>Paperback</td>\n",
              "    </tr>\n",
              "    <tr>\n",
              "      <th>497</th>\n",
              "      <td>2864845</td>\n",
              "      <td>Akhir Sebuah Mimpi</td>\n",
              "      <td></td>\n",
              "      <td>3.67</td>\n",
              "      <td>3088831</td>\n",
              "      <td>3.87</td>\n",
              "      <td></td>\n",
              "      <td></td>\n",
              "    </tr>\n",
              "    <tr>\n",
              "      <th>498</th>\n",
              "      <td>802870</td>\n",
              "      <td>Irvin Cobb at His Best</td>\n",
              "      <td>Compilation of the Kentucky humorist's best co...</td>\n",
              "      <td>4.00</td>\n",
              "      <td>4371642</td>\n",
              "      <td>4.27</td>\n",
              "      <td></td>\n",
              "      <td></td>\n",
              "    </tr>\n",
              "    <tr>\n",
              "      <th>499</th>\n",
              "      <td>4608421</td>\n",
              "      <td>Stone Gods, Wooden Elephants</td>\n",
              "      <td>Lured to an ancient lost Khmer city in the jun...</td>\n",
              "      <td>3.00</td>\n",
              "      <td>281810</td>\n",
              "      <td>4.19</td>\n",
              "      <td></td>\n",
              "      <td>Paperback</td>\n",
              "    </tr>\n",
              "    <tr>\n",
              "      <th>500</th>\n",
              "      <td>802872</td>\n",
              "      <td>Draconomicon: The Book of Dragons</td>\n",
              "      <td>The Book of Dragons\\nThis title takes a compre...</td>\n",
              "      <td>4.04</td>\n",
              "      <td>8363</td>\n",
              "      <td>4.28</td>\n",
              "      <td>eng</td>\n",
              "      <td></td>\n",
              "    </tr>\n",
              "  </tbody>\n",
              "</table>\n",
              "<p>501 rows × 8 columns</p>\n",
              "</div>"
            ],
            "text/plain": [
              "      book_id  ...     format\n",
              "0     5333265  ...  Paperback\n",
              "1     1333909  ...   Audio CD\n",
              "2     7327624  ...  Hardcover\n",
              "3     6066819  ...  Hardcover\n",
              "4      287140  ...           \n",
              "..        ...  ...        ...\n",
              "496  12158822  ...  Paperback\n",
              "497   2864845  ...           \n",
              "498    802870  ...           \n",
              "499   4608421  ...  Paperback\n",
              "500    802872  ...           \n",
              "\n",
              "[501 rows x 8 columns]"
            ]
          },
          "metadata": {
            "tags": []
          },
          "execution_count": 18
        }
      ]
    },
    {
      "cell_type": "markdown",
      "metadata": {
        "id": "XHYI7-CP_RsL"
      },
      "source": [
        "EXTRACT GENRE"
      ]
    },
    {
      "cell_type": "code",
      "metadata": {
        "id": "6eGwCoyTD7M3"
      },
      "source": [
        "genre = load_data(os.path.join('goodreads_book_genres_initial.json.gz'))\n",
        "genre"
      ],
      "execution_count": null,
      "outputs": []
    },
    {
      "cell_type": "code",
      "metadata": {
        "colab": {
          "base_uri": "https://localhost:8080/",
          "height": 454
        },
        "id": "FHgN5XSt_GQv",
        "outputId": "c7bda975-e2cd-43ce-847f-b218c7457455"
      },
      "source": [
        "d=dict()\n",
        "\n",
        "df['genre']=\"\"\n",
        "def custom(id):\n",
        "  for i in genre:\n",
        "    for j in i['genres']: \n",
        "      if int(i['book_id']) == id:\n",
        "        return j.split(',')[0]\n",
        "    \n",
        "    \n",
        "        \n",
        "df['genre'] = df.apply(lambda x: custom(x['book_id']),axis=1)\n",
        "\n",
        "df "
      ],
      "execution_count": null,
      "outputs": [
        {
          "output_type": "execute_result",
          "data": {
            "text/html": [
              "<div>\n",
              "<style scoped>\n",
              "    .dataframe tbody tr th:only-of-type {\n",
              "        vertical-align: middle;\n",
              "    }\n",
              "\n",
              "    .dataframe tbody tr th {\n",
              "        vertical-align: top;\n",
              "    }\n",
              "\n",
              "    .dataframe thead th {\n",
              "        text-align: right;\n",
              "    }\n",
              "</style>\n",
              "<table border=\"1\" class=\"dataframe\">\n",
              "  <thead>\n",
              "    <tr style=\"text-align: right;\">\n",
              "      <th></th>\n",
              "      <th>book_id</th>\n",
              "      <th>title</th>\n",
              "      <th>description</th>\n",
              "      <th>rating</th>\n",
              "      <th>author_id</th>\n",
              "      <th>author_rating</th>\n",
              "      <th>language</th>\n",
              "      <th>format</th>\n",
              "      <th>genre</th>\n",
              "    </tr>\n",
              "  </thead>\n",
              "  <tbody>\n",
              "    <tr>\n",
              "      <th>0</th>\n",
              "      <td>5333265</td>\n",
              "      <td>W.C. Fields: A Life on Film</td>\n",
              "      <td></td>\n",
              "      <td>4.00</td>\n",
              "      <td>604031</td>\n",
              "      <td>3.98</td>\n",
              "      <td></td>\n",
              "      <td>Paperback</td>\n",
              "      <td>history</td>\n",
              "    </tr>\n",
              "    <tr>\n",
              "      <th>1</th>\n",
              "      <td>1333909</td>\n",
              "      <td>Good Harbor</td>\n",
              "      <td>Anita Diamant's international bestseller \"The ...</td>\n",
              "      <td>3.23</td>\n",
              "      <td>626222</td>\n",
              "      <td>4.08</td>\n",
              "      <td></td>\n",
              "      <td>Audio CD</td>\n",
              "      <td>fiction</td>\n",
              "    </tr>\n",
              "    <tr>\n",
              "      <th>2</th>\n",
              "      <td>7327624</td>\n",
              "      <td>The Unschooled Wizard (Sun Wolf and Starhawk, ...</td>\n",
              "      <td>Omnibus book club edition containing the Ladie...</td>\n",
              "      <td>4.03</td>\n",
              "      <td>10333</td>\n",
              "      <td>3.92</td>\n",
              "      <td>eng</td>\n",
              "      <td>Hardcover</td>\n",
              "      <td>fantasy</td>\n",
              "    </tr>\n",
              "    <tr>\n",
              "      <th>3</th>\n",
              "      <td>6066819</td>\n",
              "      <td>Best Friends Forever</td>\n",
              "      <td>Addie Downs and Valerie Adler were eight when ...</td>\n",
              "      <td>3.49</td>\n",
              "      <td>9212</td>\n",
              "      <td>3.68</td>\n",
              "      <td>eng</td>\n",
              "      <td>Hardcover</td>\n",
              "      <td>fiction</td>\n",
              "    </tr>\n",
              "    <tr>\n",
              "      <th>4</th>\n",
              "      <td>287140</td>\n",
              "      <td>Runic Astrology: Starcraft and Timekeeping in ...</td>\n",
              "      <td></td>\n",
              "      <td>3.40</td>\n",
              "      <td>149918</td>\n",
              "      <td>3.82</td>\n",
              "      <td></td>\n",
              "      <td></td>\n",
              "      <td>non-fiction</td>\n",
              "    </tr>\n",
              "    <tr>\n",
              "      <th>...</th>\n",
              "      <td>...</td>\n",
              "      <td>...</td>\n",
              "      <td>...</td>\n",
              "      <td>...</td>\n",
              "      <td>...</td>\n",
              "      <td>...</td>\n",
              "      <td>...</td>\n",
              "      <td>...</td>\n",
              "      <td>...</td>\n",
              "    </tr>\n",
              "    <tr>\n",
              "      <th>496</th>\n",
              "      <td>12158822</td>\n",
              "      <td>La acabadora</td>\n",
              "      <td>Siguiendo una costumbre sarda cuyos origenes s...</td>\n",
              "      <td>3.89</td>\n",
              "      <td>117366</td>\n",
              "      <td>2.71</td>\n",
              "      <td>spa</td>\n",
              "      <td>Paperback</td>\n",
              "      <td>fiction</td>\n",
              "    </tr>\n",
              "    <tr>\n",
              "      <th>497</th>\n",
              "      <td>2864845</td>\n",
              "      <td>Akhir Sebuah Mimpi</td>\n",
              "      <td></td>\n",
              "      <td>3.67</td>\n",
              "      <td>3088831</td>\n",
              "      <td>3.87</td>\n",
              "      <td></td>\n",
              "      <td></td>\n",
              "      <td>None</td>\n",
              "    </tr>\n",
              "    <tr>\n",
              "      <th>498</th>\n",
              "      <td>802870</td>\n",
              "      <td>Irvin Cobb at His Best</td>\n",
              "      <td>Compilation of the Kentucky humorist's best co...</td>\n",
              "      <td>4.00</td>\n",
              "      <td>4371642</td>\n",
              "      <td>4.27</td>\n",
              "      <td></td>\n",
              "      <td></td>\n",
              "      <td>fiction</td>\n",
              "    </tr>\n",
              "    <tr>\n",
              "      <th>499</th>\n",
              "      <td>4608421</td>\n",
              "      <td>Stone Gods, Wooden Elephants</td>\n",
              "      <td>Lured to an ancient lost Khmer city in the jun...</td>\n",
              "      <td>3.00</td>\n",
              "      <td>281810</td>\n",
              "      <td>4.19</td>\n",
              "      <td></td>\n",
              "      <td>Paperback</td>\n",
              "      <td>None</td>\n",
              "    </tr>\n",
              "    <tr>\n",
              "      <th>500</th>\n",
              "      <td>802872</td>\n",
              "      <td>Draconomicon: The Book of Dragons</td>\n",
              "      <td>The Book of Dragons\\nThis title takes a compre...</td>\n",
              "      <td>4.04</td>\n",
              "      <td>8363</td>\n",
              "      <td>4.28</td>\n",
              "      <td>eng</td>\n",
              "      <td></td>\n",
              "      <td>fantasy</td>\n",
              "    </tr>\n",
              "  </tbody>\n",
              "</table>\n",
              "<p>501 rows × 9 columns</p>\n",
              "</div>"
            ],
            "text/plain": [
              "      book_id  ...        genre\n",
              "0     5333265  ...      history\n",
              "1     1333909  ...      fiction\n",
              "2     7327624  ...      fantasy\n",
              "3     6066819  ...      fiction\n",
              "4      287140  ...  non-fiction\n",
              "..        ...  ...          ...\n",
              "496  12158822  ...      fiction\n",
              "497   2864845  ...         None\n",
              "498    802870  ...      fiction\n",
              "499   4608421  ...         None\n",
              "500    802872  ...      fantasy\n",
              "\n",
              "[501 rows x 9 columns]"
            ]
          },
          "metadata": {
            "tags": []
          },
          "execution_count": 20
        }
      ]
    },
    {
      "cell_type": "code",
      "metadata": {
        "colab": {
          "base_uri": "https://localhost:8080/"
        },
        "id": "UKGtf7M6ASOB",
        "outputId": "ced0066a-16b9-4f87-c46f-59386359a343"
      },
      "source": [
        "df['genre'].unique()"
      ],
      "execution_count": null,
      "outputs": [
        {
          "output_type": "execute_result",
          "data": {
            "text/plain": [
              "array(['history', 'fiction', 'fantasy', 'non-fiction', 'romance', None,\n",
              "       'children', 'young-adult', 'poetry', 'mystery', 'comics'],\n",
              "      dtype=object)"
            ]
          },
          "metadata": {
            "tags": []
          },
          "execution_count": 21
        }
      ]
    },
    {
      "cell_type": "code",
      "metadata": {
        "id": "7yLS4qZYauIr"
      },
      "source": [
        "import nltk\n",
        "from sklearn.metrics.pairwise import linear_kernel\n",
        "from sklearn.feature_extraction.text import CountVectorizer\n",
        "from sklearn.feature_extraction.text import TfidfVectorizer\n",
        "from nltk.tokenize import RegexpTokenizer\n",
        "import re\n",
        "import string\n",
        "\n",
        "import requests"
      ],
      "execution_count": null,
      "outputs": []
    },
    {
      "cell_type": "code",
      "metadata": {
        "colab": {
          "base_uri": "https://localhost:8080/"
        },
        "id": "yJUF_KWujQ5_",
        "outputId": "99668d3a-14d9-4696-9238-15f1de8c2afe"
      },
      "source": [
        "nltk.download('stopwords')\n",
        "from nltk.corpus import stopwords"
      ],
      "execution_count": null,
      "outputs": [
        {
          "output_type": "stream",
          "text": [
            "[nltk_data] Downloading package stopwords to /root/nltk_data...\n",
            "[nltk_data]   Unzipping corpora/stopwords.zip.\n"
          ],
          "name": "stdout"
        }
      ]
    },
    {
      "cell_type": "code",
      "metadata": {
        "id": "KdtYe5EgfTxM"
      },
      "source": [
        "# Function for removing NonAscii characters\n",
        "def _removeNonAscii(s):\n",
        "    return \"\".join(i for i in s if  ord(i)<128)\n",
        "# Function for converting into lower case\n",
        "def make_lower_case(text):\n",
        "    return text.lower()\n",
        "# Function for removing stop words\n",
        "def remove_stop_words(text):\n",
        "    text = text.split()\n",
        "    stops = set(stopwords.words(\"english\"))\n",
        "    text = [w for w in text if not w in stops]\n",
        "    text = \" \".join(text)\n",
        "    return text\n",
        "# Function for removing punctuation\n",
        "def remove_punctuation(text):\n",
        "    tokenizer = RegexpTokenizer(r'\\w+')\n",
        "    text = tokenizer.tokenize(text)\n",
        "    text = \" \".join(text)\n",
        "    return text\n",
        "#Function for removing the html tags\n",
        "def remove_html(text):\n",
        "    html_pattern = re.compile('<.*?>')\n",
        "    return html_pattern.sub(r'', text)\n",
        "# Applying all the functions in description and storing as a desc\n",
        "df['desc'] = df['description'].apply(_removeNonAscii)\n",
        "df['desc'] = df.desc.apply(func = make_lower_case)\n",
        "df['desc'] = df.desc.apply(func = remove_stop_words)\n",
        "df['desc'] = df.desc.apply(func=remove_punctuation)\n",
        "df['desc'] = df.desc.apply(func=remove_html)\n",
        "\n",
        "df['format'] = df['format'].apply(_removeNonAscii)\n",
        "df['format'] = df.format.apply(func = make_lower_case)\n",
        "df['format'] = df.format.apply(func = remove_stop_words)\n",
        "df['format'] = df.format.apply(func=remove_punctuation)\n",
        "df['format'] = df.format.apply(func=remove_html)\n"
      ],
      "execution_count": null,
      "outputs": []
    },
    {
      "cell_type": "code",
      "metadata": {
        "colab": {
          "base_uri": "https://localhost:8080/",
          "height": 622
        },
        "id": "DgLGWNdcEcL2",
        "outputId": "fbb621ee-139d-4801-ffdb-e42918683fc4"
      },
      "source": [
        "df"
      ],
      "execution_count": null,
      "outputs": [
        {
          "output_type": "execute_result",
          "data": {
            "text/html": [
              "<div>\n",
              "<style scoped>\n",
              "    .dataframe tbody tr th:only-of-type {\n",
              "        vertical-align: middle;\n",
              "    }\n",
              "\n",
              "    .dataframe tbody tr th {\n",
              "        vertical-align: top;\n",
              "    }\n",
              "\n",
              "    .dataframe thead th {\n",
              "        text-align: right;\n",
              "    }\n",
              "</style>\n",
              "<table border=\"1\" class=\"dataframe\">\n",
              "  <thead>\n",
              "    <tr style=\"text-align: right;\">\n",
              "      <th></th>\n",
              "      <th>book_id</th>\n",
              "      <th>title</th>\n",
              "      <th>description</th>\n",
              "      <th>rating</th>\n",
              "      <th>author_id</th>\n",
              "      <th>author_rating</th>\n",
              "      <th>language</th>\n",
              "      <th>format</th>\n",
              "      <th>genre</th>\n",
              "      <th>desc</th>\n",
              "    </tr>\n",
              "  </thead>\n",
              "  <tbody>\n",
              "    <tr>\n",
              "      <th>0</th>\n",
              "      <td>5333265</td>\n",
              "      <td>W.C. Fields: A Life on Film</td>\n",
              "      <td></td>\n",
              "      <td>4.00</td>\n",
              "      <td>604031</td>\n",
              "      <td>3.98</td>\n",
              "      <td></td>\n",
              "      <td>paperback</td>\n",
              "      <td>history</td>\n",
              "      <td></td>\n",
              "    </tr>\n",
              "    <tr>\n",
              "      <th>1</th>\n",
              "      <td>1333909</td>\n",
              "      <td>Good Harbor</td>\n",
              "      <td>Anita Diamant's international bestseller \"The ...</td>\n",
              "      <td>3.23</td>\n",
              "      <td>626222</td>\n",
              "      <td>4.08</td>\n",
              "      <td></td>\n",
              "      <td>audio cd</td>\n",
              "      <td>fiction</td>\n",
              "      <td>anita diamant s international bestseller the r...</td>\n",
              "    </tr>\n",
              "    <tr>\n",
              "      <th>2</th>\n",
              "      <td>7327624</td>\n",
              "      <td>The Unschooled Wizard (Sun Wolf and Starhawk, ...</td>\n",
              "      <td>Omnibus book club edition containing the Ladie...</td>\n",
              "      <td>4.03</td>\n",
              "      <td>10333</td>\n",
              "      <td>3.92</td>\n",
              "      <td>eng</td>\n",
              "      <td>hardcover</td>\n",
              "      <td>fantasy</td>\n",
              "      <td>omnibus book club edition containing ladies ma...</td>\n",
              "    </tr>\n",
              "    <tr>\n",
              "      <th>3</th>\n",
              "      <td>6066819</td>\n",
              "      <td>Best Friends Forever</td>\n",
              "      <td>Addie Downs and Valerie Adler were eight when ...</td>\n",
              "      <td>3.49</td>\n",
              "      <td>9212</td>\n",
              "      <td>3.68</td>\n",
              "      <td>eng</td>\n",
              "      <td>hardcover</td>\n",
              "      <td>fiction</td>\n",
              "      <td>addie downs valerie adler eight first met deci...</td>\n",
              "    </tr>\n",
              "    <tr>\n",
              "      <th>4</th>\n",
              "      <td>287140</td>\n",
              "      <td>Runic Astrology: Starcraft and Timekeeping in ...</td>\n",
              "      <td></td>\n",
              "      <td>3.40</td>\n",
              "      <td>149918</td>\n",
              "      <td>3.82</td>\n",
              "      <td></td>\n",
              "      <td></td>\n",
              "      <td>non-fiction</td>\n",
              "      <td></td>\n",
              "    </tr>\n",
              "    <tr>\n",
              "      <th>...</th>\n",
              "      <td>...</td>\n",
              "      <td>...</td>\n",
              "      <td>...</td>\n",
              "      <td>...</td>\n",
              "      <td>...</td>\n",
              "      <td>...</td>\n",
              "      <td>...</td>\n",
              "      <td>...</td>\n",
              "      <td>...</td>\n",
              "      <td>...</td>\n",
              "    </tr>\n",
              "    <tr>\n",
              "      <th>496</th>\n",
              "      <td>12158822</td>\n",
              "      <td>La acabadora</td>\n",
              "      <td>Siguiendo una costumbre sarda cuyos origenes s...</td>\n",
              "      <td>3.89</td>\n",
              "      <td>117366</td>\n",
              "      <td>2.71</td>\n",
              "      <td>spa</td>\n",
              "      <td>paperback</td>\n",
              "      <td>fiction</td>\n",
              "      <td>siguiendo una costumbre sarda cuyos origenes s...</td>\n",
              "    </tr>\n",
              "    <tr>\n",
              "      <th>497</th>\n",
              "      <td>2864845</td>\n",
              "      <td>Akhir Sebuah Mimpi</td>\n",
              "      <td></td>\n",
              "      <td>3.67</td>\n",
              "      <td>3088831</td>\n",
              "      <td>3.87</td>\n",
              "      <td></td>\n",
              "      <td></td>\n",
              "      <td>None</td>\n",
              "      <td></td>\n",
              "    </tr>\n",
              "    <tr>\n",
              "      <th>498</th>\n",
              "      <td>802870</td>\n",
              "      <td>Irvin Cobb at His Best</td>\n",
              "      <td>Compilation of the Kentucky humorist's best co...</td>\n",
              "      <td>4.00</td>\n",
              "      <td>4371642</td>\n",
              "      <td>4.27</td>\n",
              "      <td></td>\n",
              "      <td></td>\n",
              "      <td>fiction</td>\n",
              "      <td>compilation kentucky humorist s best comic sto...</td>\n",
              "    </tr>\n",
              "    <tr>\n",
              "      <th>499</th>\n",
              "      <td>4608421</td>\n",
              "      <td>Stone Gods, Wooden Elephants</td>\n",
              "      <td>Lured to an ancient lost Khmer city in the jun...</td>\n",
              "      <td>3.00</td>\n",
              "      <td>281810</td>\n",
              "      <td>4.19</td>\n",
              "      <td></td>\n",
              "      <td>paperback</td>\n",
              "      <td>None</td>\n",
              "      <td>lured ancient lost khmer city jungle contains ...</td>\n",
              "    </tr>\n",
              "    <tr>\n",
              "      <th>500</th>\n",
              "      <td>802872</td>\n",
              "      <td>Draconomicon: The Book of Dragons</td>\n",
              "      <td>The Book of Dragons\\nThis title takes a compre...</td>\n",
              "      <td>4.04</td>\n",
              "      <td>8363</td>\n",
              "      <td>4.28</td>\n",
              "      <td>eng</td>\n",
              "      <td></td>\n",
              "      <td>fantasy</td>\n",
              "      <td>book dragons title takes comprehensive look dr...</td>\n",
              "    </tr>\n",
              "  </tbody>\n",
              "</table>\n",
              "<p>501 rows × 10 columns</p>\n",
              "</div>"
            ],
            "text/plain": [
              "      book_id  ...                                               desc\n",
              "0     5333265  ...                                                   \n",
              "1     1333909  ...  anita diamant s international bestseller the r...\n",
              "2     7327624  ...  omnibus book club edition containing ladies ma...\n",
              "3     6066819  ...  addie downs valerie adler eight first met deci...\n",
              "4      287140  ...                                                   \n",
              "..        ...  ...                                                ...\n",
              "496  12158822  ...  siguiendo una costumbre sarda cuyos origenes s...\n",
              "497   2864845  ...                                                   \n",
              "498    802870  ...  compilation kentucky humorist s best comic sto...\n",
              "499   4608421  ...  lured ancient lost khmer city jungle contains ...\n",
              "500    802872  ...  book dragons title takes comprehensive look dr...\n",
              "\n",
              "[501 rows x 10 columns]"
            ]
          },
          "metadata": {
            "tags": []
          },
          "execution_count": 25
        }
      ]
    },
    {
      "cell_type": "code",
      "metadata": {
        "colab": {
          "base_uri": "https://localhost:8080/",
          "height": 622
        },
        "id": "OKUSJwPpi-5Q",
        "outputId": "640cc6e0-5ffd-48b8-a01a-5a91668ea615"
      },
      "source": [
        "df"
      ],
      "execution_count": null,
      "outputs": [
        {
          "output_type": "execute_result",
          "data": {
            "text/html": [
              "<div>\n",
              "<style scoped>\n",
              "    .dataframe tbody tr th:only-of-type {\n",
              "        vertical-align: middle;\n",
              "    }\n",
              "\n",
              "    .dataframe tbody tr th {\n",
              "        vertical-align: top;\n",
              "    }\n",
              "\n",
              "    .dataframe thead th {\n",
              "        text-align: right;\n",
              "    }\n",
              "</style>\n",
              "<table border=\"1\" class=\"dataframe\">\n",
              "  <thead>\n",
              "    <tr style=\"text-align: right;\">\n",
              "      <th></th>\n",
              "      <th>book_id</th>\n",
              "      <th>title</th>\n",
              "      <th>description</th>\n",
              "      <th>rating</th>\n",
              "      <th>author_id</th>\n",
              "      <th>author_rating</th>\n",
              "      <th>language</th>\n",
              "      <th>format</th>\n",
              "      <th>genre</th>\n",
              "      <th>desc</th>\n",
              "    </tr>\n",
              "  </thead>\n",
              "  <tbody>\n",
              "    <tr>\n",
              "      <th>0</th>\n",
              "      <td>5333265</td>\n",
              "      <td>W.C. Fields: A Life on Film</td>\n",
              "      <td></td>\n",
              "      <td>4.00</td>\n",
              "      <td>604031</td>\n",
              "      <td>3.98</td>\n",
              "      <td></td>\n",
              "      <td>paperback</td>\n",
              "      <td>history</td>\n",
              "      <td></td>\n",
              "    </tr>\n",
              "    <tr>\n",
              "      <th>1</th>\n",
              "      <td>1333909</td>\n",
              "      <td>Good Harbor</td>\n",
              "      <td>Anita Diamant's international bestseller \"The ...</td>\n",
              "      <td>3.23</td>\n",
              "      <td>626222</td>\n",
              "      <td>4.08</td>\n",
              "      <td></td>\n",
              "      <td>audio cd</td>\n",
              "      <td>fiction</td>\n",
              "      <td>anita diamant s international bestseller the r...</td>\n",
              "    </tr>\n",
              "    <tr>\n",
              "      <th>2</th>\n",
              "      <td>7327624</td>\n",
              "      <td>The Unschooled Wizard (Sun Wolf and Starhawk, ...</td>\n",
              "      <td>Omnibus book club edition containing the Ladie...</td>\n",
              "      <td>4.03</td>\n",
              "      <td>10333</td>\n",
              "      <td>3.92</td>\n",
              "      <td>eng</td>\n",
              "      <td>hardcover</td>\n",
              "      <td>fantasy</td>\n",
              "      <td>omnibus book club edition containing ladies ma...</td>\n",
              "    </tr>\n",
              "    <tr>\n",
              "      <th>3</th>\n",
              "      <td>6066819</td>\n",
              "      <td>Best Friends Forever</td>\n",
              "      <td>Addie Downs and Valerie Adler were eight when ...</td>\n",
              "      <td>3.49</td>\n",
              "      <td>9212</td>\n",
              "      <td>3.68</td>\n",
              "      <td>eng</td>\n",
              "      <td>hardcover</td>\n",
              "      <td>fiction</td>\n",
              "      <td>addie downs valerie adler eight first met deci...</td>\n",
              "    </tr>\n",
              "    <tr>\n",
              "      <th>4</th>\n",
              "      <td>287140</td>\n",
              "      <td>Runic Astrology: Starcraft and Timekeeping in ...</td>\n",
              "      <td></td>\n",
              "      <td>3.40</td>\n",
              "      <td>149918</td>\n",
              "      <td>3.82</td>\n",
              "      <td></td>\n",
              "      <td></td>\n",
              "      <td>non-fiction</td>\n",
              "      <td></td>\n",
              "    </tr>\n",
              "    <tr>\n",
              "      <th>...</th>\n",
              "      <td>...</td>\n",
              "      <td>...</td>\n",
              "      <td>...</td>\n",
              "      <td>...</td>\n",
              "      <td>...</td>\n",
              "      <td>...</td>\n",
              "      <td>...</td>\n",
              "      <td>...</td>\n",
              "      <td>...</td>\n",
              "      <td>...</td>\n",
              "    </tr>\n",
              "    <tr>\n",
              "      <th>496</th>\n",
              "      <td>12158822</td>\n",
              "      <td>La acabadora</td>\n",
              "      <td>Siguiendo una costumbre sarda cuyos origenes s...</td>\n",
              "      <td>3.89</td>\n",
              "      <td>117366</td>\n",
              "      <td>2.71</td>\n",
              "      <td>spa</td>\n",
              "      <td>paperback</td>\n",
              "      <td>fiction</td>\n",
              "      <td>siguiendo una costumbre sarda cuyos origenes s...</td>\n",
              "    </tr>\n",
              "    <tr>\n",
              "      <th>497</th>\n",
              "      <td>2864845</td>\n",
              "      <td>Akhir Sebuah Mimpi</td>\n",
              "      <td></td>\n",
              "      <td>3.67</td>\n",
              "      <td>3088831</td>\n",
              "      <td>3.87</td>\n",
              "      <td></td>\n",
              "      <td></td>\n",
              "      <td>None</td>\n",
              "      <td></td>\n",
              "    </tr>\n",
              "    <tr>\n",
              "      <th>498</th>\n",
              "      <td>802870</td>\n",
              "      <td>Irvin Cobb at His Best</td>\n",
              "      <td>Compilation of the Kentucky humorist's best co...</td>\n",
              "      <td>4.00</td>\n",
              "      <td>4371642</td>\n",
              "      <td>4.27</td>\n",
              "      <td></td>\n",
              "      <td></td>\n",
              "      <td>fiction</td>\n",
              "      <td>compilation kentucky humorist s best comic sto...</td>\n",
              "    </tr>\n",
              "    <tr>\n",
              "      <th>499</th>\n",
              "      <td>4608421</td>\n",
              "      <td>Stone Gods, Wooden Elephants</td>\n",
              "      <td>Lured to an ancient lost Khmer city in the jun...</td>\n",
              "      <td>3.00</td>\n",
              "      <td>281810</td>\n",
              "      <td>4.19</td>\n",
              "      <td></td>\n",
              "      <td>paperback</td>\n",
              "      <td>None</td>\n",
              "      <td>lured ancient lost khmer city jungle contains ...</td>\n",
              "    </tr>\n",
              "    <tr>\n",
              "      <th>500</th>\n",
              "      <td>802872</td>\n",
              "      <td>Draconomicon: The Book of Dragons</td>\n",
              "      <td>The Book of Dragons\\nThis title takes a compre...</td>\n",
              "      <td>4.04</td>\n",
              "      <td>8363</td>\n",
              "      <td>4.28</td>\n",
              "      <td>eng</td>\n",
              "      <td></td>\n",
              "      <td>fantasy</td>\n",
              "      <td>book dragons title takes comprehensive look dr...</td>\n",
              "    </tr>\n",
              "  </tbody>\n",
              "</table>\n",
              "<p>501 rows × 10 columns</p>\n",
              "</div>"
            ],
            "text/plain": [
              "      book_id  ...                                               desc\n",
              "0     5333265  ...                                                   \n",
              "1     1333909  ...  anita diamant s international bestseller the r...\n",
              "2     7327624  ...  omnibus book club edition containing ladies ma...\n",
              "3     6066819  ...  addie downs valerie adler eight first met deci...\n",
              "4      287140  ...                                                   \n",
              "..        ...  ...                                                ...\n",
              "496  12158822  ...  siguiendo una costumbre sarda cuyos origenes s...\n",
              "497   2864845  ...                                                   \n",
              "498    802870  ...  compilation kentucky humorist s best comic sto...\n",
              "499   4608421  ...  lured ancient lost khmer city jungle contains ...\n",
              "500    802872  ...  book dragons title takes comprehensive look dr...\n",
              "\n",
              "[501 rows x 10 columns]"
            ]
          },
          "metadata": {
            "tags": []
          },
          "execution_count": 26
        }
      ]
    },
    {
      "cell_type": "code",
      "metadata": {
        "id": "v0FHU2y6kpKk"
      },
      "source": [
        "from sklearn.metrics.pairwise import cosine_similarity,cosine_distances"
      ],
      "execution_count": null,
      "outputs": []
    },
    {
      "cell_type": "markdown",
      "metadata": {
        "id": "RiAq-fAlAWu3"
      },
      "source": [
        "RECOMMEND BY DESCRIPTION"
      ]
    },
    {
      "cell_type": "code",
      "metadata": {
        "id": "XeqvfkEJjW4S"
      },
      "source": [
        "def recommend_d(title, genre):\n",
        "    data = df.loc[df['genre'] == genre]  \n",
        "    data.reset_index(level = 0, inplace = True) \n",
        "  \n",
        "    indices = pd.Series(data.index, index = data['title'])\n",
        "    tf = TfidfVectorizer(analyzer='word', ngram_range=(2, 2), min_df = 1, stop_words='english')\n",
        "    tfidf_matrix = tf.fit_transform(data['desc'])\n",
        "    sg = cosine_similarity(tfidf_matrix, tfidf_matrix)\n",
        "    idx = indices[title] \n",
        "    sig = list(enumerate(sg[idx]))\n",
        "    sig = sorted(sig, key=lambda x: x[1], reverse=True) \n",
        "    sig = sig[1:11]\n",
        "    movie_indices = [i[0] for i in sig]\n",
        "\n",
        "    rec_d = data[['title', 'book_id','genre']].iloc[movie_indices]\n",
        "    return rec_d\n",
        "    \n"
      ],
      "execution_count": null,
      "outputs": []
    },
    {
      "cell_type": "code",
      "metadata": {
        "colab": {
          "base_uri": "https://localhost:8080/",
          "height": 345
        },
        "id": "UewIL_TrkS06",
        "outputId": "dae1481f-2e46-4b91-ca72-e1e61c0c16f1"
      },
      "source": [
        "recommend_d('Best Friends Forever','fiction')"
      ],
      "execution_count": null,
      "outputs": [
        {
          "output_type": "execute_result",
          "data": {
            "text/html": [
              "<div>\n",
              "<style scoped>\n",
              "    .dataframe tbody tr th:only-of-type {\n",
              "        vertical-align: middle;\n",
              "    }\n",
              "\n",
              "    .dataframe tbody tr th {\n",
              "        vertical-align: top;\n",
              "    }\n",
              "\n",
              "    .dataframe thead th {\n",
              "        text-align: right;\n",
              "    }\n",
              "</style>\n",
              "<table border=\"1\" class=\"dataframe\">\n",
              "  <thead>\n",
              "    <tr style=\"text-align: right;\">\n",
              "      <th></th>\n",
              "      <th>title</th>\n",
              "      <th>book_id</th>\n",
              "      <th>genre</th>\n",
              "    </tr>\n",
              "  </thead>\n",
              "  <tbody>\n",
              "    <tr>\n",
              "      <th>19</th>\n",
              "      <td>I'm with Stupid</td>\n",
              "      <td>7075301</td>\n",
              "      <td>fiction</td>\n",
              "    </tr>\n",
              "    <tr>\n",
              "      <th>0</th>\n",
              "      <td>Good Harbor</td>\n",
              "      <td>1333909</td>\n",
              "      <td>fiction</td>\n",
              "    </tr>\n",
              "    <tr>\n",
              "      <th>2</th>\n",
              "      <td>The Wanting of Levine</td>\n",
              "      <td>378460</td>\n",
              "      <td>fiction</td>\n",
              "    </tr>\n",
              "    <tr>\n",
              "      <th>3</th>\n",
              "      <td>Crowner Royal (Crowner John Mystery, #13)</td>\n",
              "      <td>6066814</td>\n",
              "      <td>fiction</td>\n",
              "    </tr>\n",
              "    <tr>\n",
              "      <th>4</th>\n",
              "      <td>The Bonfire of the Vanities</td>\n",
              "      <td>89373</td>\n",
              "      <td>fiction</td>\n",
              "    </tr>\n",
              "    <tr>\n",
              "      <th>5</th>\n",
              "      <td>Penny from Heaven</td>\n",
              "      <td>89377</td>\n",
              "      <td>fiction</td>\n",
              "    </tr>\n",
              "    <tr>\n",
              "      <th>6</th>\n",
              "      <td>Glimmering Light</td>\n",
              "      <td>21401188</td>\n",
              "      <td>fiction</td>\n",
              "    </tr>\n",
              "    <tr>\n",
              "      <th>7</th>\n",
              "      <td>Silken Eyes</td>\n",
              "      <td>2008911</td>\n",
              "      <td>fiction</td>\n",
              "    </tr>\n",
              "    <tr>\n",
              "      <th>8</th>\n",
              "      <td>Buenos días, tristeza</td>\n",
              "      <td>2008910</td>\n",
              "      <td>fiction</td>\n",
              "    </tr>\n",
              "    <tr>\n",
              "      <th>9</th>\n",
              "      <td>The Tommyknockers</td>\n",
              "      <td>7203847</td>\n",
              "      <td>fiction</td>\n",
              "    </tr>\n",
              "  </tbody>\n",
              "</table>\n",
              "</div>"
            ],
            "text/plain": [
              "                                        title   book_id    genre\n",
              "19                            I'm with Stupid   7075301  fiction\n",
              "0                                 Good Harbor   1333909  fiction\n",
              "2                       The Wanting of Levine    378460  fiction\n",
              "3   Crowner Royal (Crowner John Mystery, #13)   6066814  fiction\n",
              "4                 The Bonfire of the Vanities     89373  fiction\n",
              "5                           Penny from Heaven     89377  fiction\n",
              "6                            Glimmering Light  21401188  fiction\n",
              "7                                 Silken Eyes   2008911  fiction\n",
              "8                       Buenos días, tristeza   2008910  fiction\n",
              "9                           The Tommyknockers   7203847  fiction"
            ]
          },
          "metadata": {
            "tags": []
          },
          "execution_count": 29
        }
      ]
    },
    {
      "cell_type": "code",
      "metadata": {
        "colab": {
          "base_uri": "https://localhost:8080/",
          "height": 345
        },
        "id": "-KhRYrEpluF3",
        "outputId": "b66a9ff2-f9c2-451e-9002-b2b5f6544b74"
      },
      "source": [
        "recommend_d('Captain America: Winter Soldier (The Ultimate Graphic Novels Collection: Publication Order, #7)','comics')\n"
      ],
      "execution_count": null,
      "outputs": [
        {
          "output_type": "execute_result",
          "data": {
            "text/html": [
              "<div>\n",
              "<style scoped>\n",
              "    .dataframe tbody tr th:only-of-type {\n",
              "        vertical-align: middle;\n",
              "    }\n",
              "\n",
              "    .dataframe tbody tr th {\n",
              "        vertical-align: top;\n",
              "    }\n",
              "\n",
              "    .dataframe thead th {\n",
              "        text-align: right;\n",
              "    }\n",
              "</style>\n",
              "<table border=\"1\" class=\"dataframe\">\n",
              "  <thead>\n",
              "    <tr style=\"text-align: right;\">\n",
              "      <th></th>\n",
              "      <th>title</th>\n",
              "      <th>book_id</th>\n",
              "      <th>genre</th>\n",
              "    </tr>\n",
              "  </thead>\n",
              "  <tbody>\n",
              "    <tr>\n",
              "      <th>0</th>\n",
              "      <td>The Switchblade Mamma</td>\n",
              "      <td>25742454</td>\n",
              "      <td>comics</td>\n",
              "    </tr>\n",
              "    <tr>\n",
              "      <th>1</th>\n",
              "      <td>Faminelands: The Carp's Eye (Book 1)</td>\n",
              "      <td>13598465</td>\n",
              "      <td>comics</td>\n",
              "    </tr>\n",
              "    <tr>\n",
              "      <th>2</th>\n",
              "      <td>Washington B.C (Ben 10 Comic Book)</td>\n",
              "      <td>12413392</td>\n",
              "      <td>comics</td>\n",
              "    </tr>\n",
              "    <tr>\n",
              "      <th>4</th>\n",
              "      <td>Bounty Hunter 4/3: My Life in Combat from Mari...</td>\n",
              "      <td>35452242</td>\n",
              "      <td>comics</td>\n",
              "    </tr>\n",
              "    <tr>\n",
              "      <th>5</th>\n",
              "      <td>Superman Archives, Vol. 2</td>\n",
              "      <td>707611</td>\n",
              "      <td>comics</td>\n",
              "    </tr>\n",
              "    <tr>\n",
              "      <th>6</th>\n",
              "      <td>A.I. Revolution, Vol. 1</td>\n",
              "      <td>2250580</td>\n",
              "      <td>comics</td>\n",
              "    </tr>\n",
              "    <tr>\n",
              "      <th>7</th>\n",
              "      <td>War Stories, Volume 3</td>\n",
              "      <td>27036536</td>\n",
              "      <td>comics</td>\n",
              "    </tr>\n",
              "    <tr>\n",
              "      <th>8</th>\n",
              "      <td>Crossed, Volume 15</td>\n",
              "      <td>27036537</td>\n",
              "      <td>comics</td>\n",
              "    </tr>\n",
              "    <tr>\n",
              "      <th>9</th>\n",
              "      <td>Crossed + One Hundred, Volume 2 (Crossed +100 #2)</td>\n",
              "      <td>27036538</td>\n",
              "      <td>comics</td>\n",
              "    </tr>\n",
              "    <tr>\n",
              "      <th>10</th>\n",
              "      <td>War Stories, Volume 4</td>\n",
              "      <td>27036539</td>\n",
              "      <td>comics</td>\n",
              "    </tr>\n",
              "  </tbody>\n",
              "</table>\n",
              "</div>"
            ],
            "text/plain": [
              "                                                title   book_id   genre\n",
              "0                               The Switchblade Mamma  25742454  comics\n",
              "1                Faminelands: The Carp's Eye (Book 1)  13598465  comics\n",
              "2                  Washington B.C (Ben 10 Comic Book)  12413392  comics\n",
              "4   Bounty Hunter 4/3: My Life in Combat from Mari...  35452242  comics\n",
              "5                           Superman Archives, Vol. 2    707611  comics\n",
              "6                             A.I. Revolution, Vol. 1   2250580  comics\n",
              "7                               War Stories, Volume 3  27036536  comics\n",
              "8                                  Crossed, Volume 15  27036537  comics\n",
              "9   Crossed + One Hundred, Volume 2 (Crossed +100 #2)  27036538  comics\n",
              "10                              War Stories, Volume 4  27036539  comics"
            ]
          },
          "metadata": {
            "tags": []
          },
          "execution_count": 30
        }
      ]
    },
    {
      "cell_type": "code",
      "metadata": {
        "id": "Bgtra6XnpYSE"
      },
      "source": [
        ""
      ],
      "execution_count": null,
      "outputs": []
    },
    {
      "cell_type": "markdown",
      "metadata": {
        "id": "7tNEsro2Au0C"
      },
      "source": [
        "RECOMMEND BY TITLE"
      ]
    },
    {
      "cell_type": "code",
      "metadata": {
        "id": "2s97i57Q3pbn"
      },
      "source": [
        "def recommend_t(title, genre):\n",
        "\n",
        "    data = df.loc[df['genre'] == genre]  \n",
        "    data.reset_index(level = 0, inplace = True) \n",
        "    indices = pd.Series(data.index, index = data['title'])\n",
        "    \n",
        "    tf = TfidfVectorizer(analyzer='word', ngram_range=(2, 2), min_df = 1, stop_words='english')\n",
        "    tfidf_matrix = tf.fit_transform(data['title'])\n",
        "    \n",
        "    sg = cosine_similarity(tfidf_matrix, tfidf_matrix)\n",
        "    \n",
        "    idx = indices[title]\n",
        "    sig = list(enumerate(sg[idx]))\n",
        "    sig = sorted(sig, key=lambda x: x[1], reverse=True)\n",
        "    sig = sig[1:11]\n",
        "    movie_indices = [i[0] for i in sig]\n",
        "\n",
        "    rec_t = data[['title', 'book_id','genre']].iloc[movie_indices]\n",
        "    return rec_t\n",
        "\n",
        "\n",
        "\n",
        "\n",
        "\n",
        "       "
      ],
      "execution_count": null,
      "outputs": []
    },
    {
      "cell_type": "code",
      "metadata": {
        "colab": {
          "base_uri": "https://localhost:8080/",
          "height": 345
        },
        "id": "Dx-ICTeU5sjT",
        "outputId": "11d22ab7-884f-4904-c810-f02ab62b5f9a"
      },
      "source": [
        "recommend_t('Captain America: Winter Soldier (The Ultimate Graphic Novels Collection: Publication Order, #7)','comics')"
      ],
      "execution_count": null,
      "outputs": [
        {
          "output_type": "execute_result",
          "data": {
            "text/html": [
              "<div>\n",
              "<style scoped>\n",
              "    .dataframe tbody tr th:only-of-type {\n",
              "        vertical-align: middle;\n",
              "    }\n",
              "\n",
              "    .dataframe tbody tr th {\n",
              "        vertical-align: top;\n",
              "    }\n",
              "\n",
              "    .dataframe thead th {\n",
              "        text-align: right;\n",
              "    }\n",
              "</style>\n",
              "<table border=\"1\" class=\"dataframe\">\n",
              "  <thead>\n",
              "    <tr style=\"text-align: right;\">\n",
              "      <th></th>\n",
              "      <th>title</th>\n",
              "      <th>book_id</th>\n",
              "      <th>genre</th>\n",
              "    </tr>\n",
              "  </thead>\n",
              "  <tbody>\n",
              "    <tr>\n",
              "      <th>0</th>\n",
              "      <td>The Switchblade Mamma</td>\n",
              "      <td>25742454</td>\n",
              "      <td>comics</td>\n",
              "    </tr>\n",
              "    <tr>\n",
              "      <th>1</th>\n",
              "      <td>Faminelands: The Carp's Eye (Book 1)</td>\n",
              "      <td>13598465</td>\n",
              "      <td>comics</td>\n",
              "    </tr>\n",
              "    <tr>\n",
              "      <th>2</th>\n",
              "      <td>Washington B.C (Ben 10 Comic Book)</td>\n",
              "      <td>12413392</td>\n",
              "      <td>comics</td>\n",
              "    </tr>\n",
              "    <tr>\n",
              "      <th>4</th>\n",
              "      <td>Bounty Hunter 4/3: My Life in Combat from Mari...</td>\n",
              "      <td>35452242</td>\n",
              "      <td>comics</td>\n",
              "    </tr>\n",
              "    <tr>\n",
              "      <th>5</th>\n",
              "      <td>Superman Archives, Vol. 2</td>\n",
              "      <td>707611</td>\n",
              "      <td>comics</td>\n",
              "    </tr>\n",
              "    <tr>\n",
              "      <th>6</th>\n",
              "      <td>A.I. Revolution, Vol. 1</td>\n",
              "      <td>2250580</td>\n",
              "      <td>comics</td>\n",
              "    </tr>\n",
              "    <tr>\n",
              "      <th>7</th>\n",
              "      <td>War Stories, Volume 3</td>\n",
              "      <td>27036536</td>\n",
              "      <td>comics</td>\n",
              "    </tr>\n",
              "    <tr>\n",
              "      <th>8</th>\n",
              "      <td>Crossed, Volume 15</td>\n",
              "      <td>27036537</td>\n",
              "      <td>comics</td>\n",
              "    </tr>\n",
              "    <tr>\n",
              "      <th>9</th>\n",
              "      <td>Crossed + One Hundred, Volume 2 (Crossed +100 #2)</td>\n",
              "      <td>27036538</td>\n",
              "      <td>comics</td>\n",
              "    </tr>\n",
              "    <tr>\n",
              "      <th>10</th>\n",
              "      <td>War Stories, Volume 4</td>\n",
              "      <td>27036539</td>\n",
              "      <td>comics</td>\n",
              "    </tr>\n",
              "  </tbody>\n",
              "</table>\n",
              "</div>"
            ],
            "text/plain": [
              "                                                title   book_id   genre\n",
              "0                               The Switchblade Mamma  25742454  comics\n",
              "1                Faminelands: The Carp's Eye (Book 1)  13598465  comics\n",
              "2                  Washington B.C (Ben 10 Comic Book)  12413392  comics\n",
              "4   Bounty Hunter 4/3: My Life in Combat from Mari...  35452242  comics\n",
              "5                           Superman Archives, Vol. 2    707611  comics\n",
              "6                             A.I. Revolution, Vol. 1   2250580  comics\n",
              "7                               War Stories, Volume 3  27036536  comics\n",
              "8                                  Crossed, Volume 15  27036537  comics\n",
              "9   Crossed + One Hundred, Volume 2 (Crossed +100 #2)  27036538  comics\n",
              "10                              War Stories, Volume 4  27036539  comics"
            ]
          },
          "metadata": {
            "tags": []
          },
          "execution_count": 32
        }
      ]
    },
    {
      "cell_type": "code",
      "metadata": {
        "colab": {
          "base_uri": "https://localhost:8080/",
          "height": 345
        },
        "id": "4wBN7lXy5wSs",
        "outputId": "1d2ba254-7bbd-4432-dc19-f137631cc091"
      },
      "source": [
        "recommend_t('Irvin Cobb at His Best','fiction')"
      ],
      "execution_count": null,
      "outputs": [
        {
          "output_type": "execute_result",
          "data": {
            "text/html": [
              "<div>\n",
              "<style scoped>\n",
              "    .dataframe tbody tr th:only-of-type {\n",
              "        vertical-align: middle;\n",
              "    }\n",
              "\n",
              "    .dataframe tbody tr th {\n",
              "        vertical-align: top;\n",
              "    }\n",
              "\n",
              "    .dataframe thead th {\n",
              "        text-align: right;\n",
              "    }\n",
              "</style>\n",
              "<table border=\"1\" class=\"dataframe\">\n",
              "  <thead>\n",
              "    <tr style=\"text-align: right;\">\n",
              "      <th></th>\n",
              "      <th>title</th>\n",
              "      <th>book_id</th>\n",
              "      <th>genre</th>\n",
              "    </tr>\n",
              "  </thead>\n",
              "  <tbody>\n",
              "    <tr>\n",
              "      <th>0</th>\n",
              "      <td>Good Harbor</td>\n",
              "      <td>1333909</td>\n",
              "      <td>fiction</td>\n",
              "    </tr>\n",
              "    <tr>\n",
              "      <th>1</th>\n",
              "      <td>Best Friends Forever</td>\n",
              "      <td>6066819</td>\n",
              "      <td>fiction</td>\n",
              "    </tr>\n",
              "    <tr>\n",
              "      <th>2</th>\n",
              "      <td>The Wanting of Levine</td>\n",
              "      <td>378460</td>\n",
              "      <td>fiction</td>\n",
              "    </tr>\n",
              "    <tr>\n",
              "      <th>3</th>\n",
              "      <td>Crowner Royal (Crowner John Mystery, #13)</td>\n",
              "      <td>6066814</td>\n",
              "      <td>fiction</td>\n",
              "    </tr>\n",
              "    <tr>\n",
              "      <th>4</th>\n",
              "      <td>The Bonfire of the Vanities</td>\n",
              "      <td>89373</td>\n",
              "      <td>fiction</td>\n",
              "    </tr>\n",
              "    <tr>\n",
              "      <th>5</th>\n",
              "      <td>Penny from Heaven</td>\n",
              "      <td>89377</td>\n",
              "      <td>fiction</td>\n",
              "    </tr>\n",
              "    <tr>\n",
              "      <th>6</th>\n",
              "      <td>Glimmering Light</td>\n",
              "      <td>21401188</td>\n",
              "      <td>fiction</td>\n",
              "    </tr>\n",
              "    <tr>\n",
              "      <th>7</th>\n",
              "      <td>Silken Eyes</td>\n",
              "      <td>2008911</td>\n",
              "      <td>fiction</td>\n",
              "    </tr>\n",
              "    <tr>\n",
              "      <th>8</th>\n",
              "      <td>Buenos días, tristeza</td>\n",
              "      <td>2008910</td>\n",
              "      <td>fiction</td>\n",
              "    </tr>\n",
              "    <tr>\n",
              "      <th>9</th>\n",
              "      <td>The Tommyknockers</td>\n",
              "      <td>7203847</td>\n",
              "      <td>fiction</td>\n",
              "    </tr>\n",
              "  </tbody>\n",
              "</table>\n",
              "</div>"
            ],
            "text/plain": [
              "                                       title   book_id    genre\n",
              "0                                Good Harbor   1333909  fiction\n",
              "1                       Best Friends Forever   6066819  fiction\n",
              "2                      The Wanting of Levine    378460  fiction\n",
              "3  Crowner Royal (Crowner John Mystery, #13)   6066814  fiction\n",
              "4                The Bonfire of the Vanities     89373  fiction\n",
              "5                          Penny from Heaven     89377  fiction\n",
              "6                           Glimmering Light  21401188  fiction\n",
              "7                                Silken Eyes   2008911  fiction\n",
              "8                      Buenos días, tristeza   2008910  fiction\n",
              "9                          The Tommyknockers   7203847  fiction"
            ]
          },
          "metadata": {
            "tags": []
          },
          "execution_count": 33
        }
      ]
    },
    {
      "cell_type": "code",
      "metadata": {
        "colab": {
          "base_uri": "https://localhost:8080/",
          "height": 345
        },
        "id": "4RJvpAhE6NFp",
        "outputId": "e1b4c32a-b923-46fe-99cd-78382896a865"
      },
      "source": [
        "recommend_t('Best Friends Forever','fiction')"
      ],
      "execution_count": null,
      "outputs": [
        {
          "output_type": "execute_result",
          "data": {
            "text/html": [
              "<div>\n",
              "<style scoped>\n",
              "    .dataframe tbody tr th:only-of-type {\n",
              "        vertical-align: middle;\n",
              "    }\n",
              "\n",
              "    .dataframe tbody tr th {\n",
              "        vertical-align: top;\n",
              "    }\n",
              "\n",
              "    .dataframe thead th {\n",
              "        text-align: right;\n",
              "    }\n",
              "</style>\n",
              "<table border=\"1\" class=\"dataframe\">\n",
              "  <thead>\n",
              "    <tr style=\"text-align: right;\">\n",
              "      <th></th>\n",
              "      <th>title</th>\n",
              "      <th>book_id</th>\n",
              "      <th>genre</th>\n",
              "    </tr>\n",
              "  </thead>\n",
              "  <tbody>\n",
              "    <tr>\n",
              "      <th>0</th>\n",
              "      <td>Good Harbor</td>\n",
              "      <td>1333909</td>\n",
              "      <td>fiction</td>\n",
              "    </tr>\n",
              "    <tr>\n",
              "      <th>2</th>\n",
              "      <td>The Wanting of Levine</td>\n",
              "      <td>378460</td>\n",
              "      <td>fiction</td>\n",
              "    </tr>\n",
              "    <tr>\n",
              "      <th>3</th>\n",
              "      <td>Crowner Royal (Crowner John Mystery, #13)</td>\n",
              "      <td>6066814</td>\n",
              "      <td>fiction</td>\n",
              "    </tr>\n",
              "    <tr>\n",
              "      <th>4</th>\n",
              "      <td>The Bonfire of the Vanities</td>\n",
              "      <td>89373</td>\n",
              "      <td>fiction</td>\n",
              "    </tr>\n",
              "    <tr>\n",
              "      <th>5</th>\n",
              "      <td>Penny from Heaven</td>\n",
              "      <td>89377</td>\n",
              "      <td>fiction</td>\n",
              "    </tr>\n",
              "    <tr>\n",
              "      <th>6</th>\n",
              "      <td>Glimmering Light</td>\n",
              "      <td>21401188</td>\n",
              "      <td>fiction</td>\n",
              "    </tr>\n",
              "    <tr>\n",
              "      <th>7</th>\n",
              "      <td>Silken Eyes</td>\n",
              "      <td>2008911</td>\n",
              "      <td>fiction</td>\n",
              "    </tr>\n",
              "    <tr>\n",
              "      <th>8</th>\n",
              "      <td>Buenos días, tristeza</td>\n",
              "      <td>2008910</td>\n",
              "      <td>fiction</td>\n",
              "    </tr>\n",
              "    <tr>\n",
              "      <th>9</th>\n",
              "      <td>The Tommyknockers</td>\n",
              "      <td>7203847</td>\n",
              "      <td>fiction</td>\n",
              "    </tr>\n",
              "    <tr>\n",
              "      <th>10</th>\n",
              "      <td>Holding On</td>\n",
              "      <td>12135833</td>\n",
              "      <td>fiction</td>\n",
              "    </tr>\n",
              "  </tbody>\n",
              "</table>\n",
              "</div>"
            ],
            "text/plain": [
              "                                        title   book_id    genre\n",
              "0                                 Good Harbor   1333909  fiction\n",
              "2                       The Wanting of Levine    378460  fiction\n",
              "3   Crowner Royal (Crowner John Mystery, #13)   6066814  fiction\n",
              "4                 The Bonfire of the Vanities     89373  fiction\n",
              "5                           Penny from Heaven     89377  fiction\n",
              "6                            Glimmering Light  21401188  fiction\n",
              "7                                 Silken Eyes   2008911  fiction\n",
              "8                       Buenos días, tristeza   2008910  fiction\n",
              "9                           The Tommyknockers   7203847  fiction\n",
              "10                                 Holding On  12135833  fiction"
            ]
          },
          "metadata": {
            "tags": []
          },
          "execution_count": 34
        }
      ]
    },
    {
      "cell_type": "markdown",
      "metadata": {
        "id": "RFDwnONkBFAN"
      },
      "source": [
        "FINAL RECOMMENDATON BASED ON TITLE AND DESCRIPTION "
      ]
    },
    {
      "cell_type": "code",
      "metadata": {
        "id": "D6KxjgX66SKZ"
      },
      "source": [
        "def recommend(title,genre):\n",
        "  l=[]\n",
        "  rec_t=recommend_t(title,genre)\n",
        "  rec_d=recommend_d(title,genre)\n",
        "  for i in rec_t['title']:\n",
        "    for j in rec_d['title']:\n",
        "      if i == j:\n",
        "        l.append(j)\n",
        "  return l"
      ],
      "execution_count": null,
      "outputs": []
    },
    {
      "cell_type": "code",
      "metadata": {
        "colab": {
          "base_uri": "https://localhost:8080/"
        },
        "id": "rzz4yLvVFKAg",
        "outputId": "8906d4ab-d069-48cb-f74a-00447caddfc4"
      },
      "source": [
        "recommend('Best Friends Forever','fiction')"
      ],
      "execution_count": null,
      "outputs": [
        {
          "output_type": "execute_result",
          "data": {
            "text/plain": [
              "['Good Harbor',\n",
              " 'The Wanting of Levine',\n",
              " 'Crowner Royal (Crowner John Mystery, #13)',\n",
              " 'The Bonfire of the Vanities',\n",
              " 'Penny from Heaven',\n",
              " 'Glimmering Light',\n",
              " 'Silken Eyes',\n",
              " 'Buenos días, tristeza',\n",
              " 'The Tommyknockers']"
            ]
          },
          "metadata": {
            "tags": []
          },
          "execution_count": 36
        }
      ]
    },
    {
      "cell_type": "code",
      "metadata": {
        "colab": {
          "base_uri": "https://localhost:8080/"
        },
        "id": "ntXlDvbvFN58",
        "outputId": "0a24226c-8bbf-4cf9-d35c-48dd4c8c2e61"
      },
      "source": [
        "recommend('Captain America: Winter Soldier (The Ultimate Graphic Novels Collection: Publication Order, #7)','comics')"
      ],
      "execution_count": null,
      "outputs": [
        {
          "output_type": "execute_result",
          "data": {
            "text/plain": [
              "['The Switchblade Mamma',\n",
              " \"Faminelands: The Carp's Eye (Book 1)\",\n",
              " 'Washington B.C (Ben 10 Comic Book)',\n",
              " 'Bounty Hunter 4/3: My Life in Combat from Marine Scout Sniper to MARSOC',\n",
              " 'Superman Archives, Vol. 2',\n",
              " 'A.I. Revolution, Vol. 1',\n",
              " 'War Stories, Volume 3',\n",
              " 'Crossed, Volume 15',\n",
              " 'Crossed + One Hundred, Volume 2 (Crossed +100 #2)',\n",
              " 'War Stories, Volume 4']"
            ]
          },
          "metadata": {
            "tags": []
          },
          "execution_count": 37
        }
      ]
    },
    {
      "cell_type": "code",
      "metadata": {
        "colab": {
          "base_uri": "https://localhost:8080/"
        },
        "id": "VU9M2QQtFkcu",
        "outputId": "49b42eee-4696-4c4e-9e62-6d79db676f69"
      },
      "source": [
        "recommend('W.C. Fields: A Life on Film','history')\n"
      ],
      "execution_count": null,
      "outputs": [
        {
          "output_type": "execute_result",
          "data": {
            "text/plain": [
              "['The Aeneid for Boys and Girls',\n",
              " 'سیر حکمت در اروپا',\n",
              " 'Eighteenth-Century Europe: Tradition and Progress, 1715-1789',\n",
              " 'World History',\n",
              " 'An Historical Introduction to American Education',\n",
              " 'Siebentürmeviertel',\n",
              " 'Piercing the Reich',\n",
              " \"CARRIE'S MAIL ORDER HUSBAND\",\n",
              " 'خطة الهجوم',\n",
              " 'Princess of Fire (Fire, #1)']"
            ]
          },
          "metadata": {
            "tags": []
          },
          "execution_count": 38
        }
      ]
    },
    {
      "cell_type": "code",
      "metadata": {
        "id": "xfAs2S4ZFwDX"
      },
      "source": [
        ""
      ],
      "execution_count": null,
      "outputs": []
    }
  ]
}
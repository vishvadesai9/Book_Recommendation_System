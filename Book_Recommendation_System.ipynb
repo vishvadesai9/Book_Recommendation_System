{
  "nbformat": 4,
  "nbformat_minor": 0,
  "metadata": {
    "colab": {
      "name": "TASK1.ipynb",
      "provenance": [],
      "collapsed_sections": [],
      "include_colab_link": true
    },
    "kernelspec": {
      "name": "python3",
      "display_name": "Python 3"
    }
  },
  "cells": [
    {
      "cell_type": "markdown",
      "metadata": {
        "id": "view-in-github",
        "colab_type": "text"
      },
      "source": [
        "<a href=\"https://colab.research.google.com/github/vishvadesai9/Book_Recommendation_System/blob/main/Book_Recommendation_System.ipynb\" target=\"_parent\"><img src=\"https://colab.research.google.com/assets/colab-badge.svg\" alt=\"Open In Colab\"/></a>"
      ]
    },
    {
      "cell_type": "code",
      "metadata": {
        "id": "k-2vvuh13BYB",
        "colab": {
          "base_uri": "https://localhost:8080/"
        },
        "outputId": "d15d0868-fc16-4ed1-ba94-ccbe34c76c66"
      },
      "source": [
        "pip install gdown\n"
      ],
      "execution_count": 1,
      "outputs": [
        {
          "output_type": "stream",
          "text": [
            "Requirement already satisfied: gdown in /usr/local/lib/python3.7/dist-packages (3.6.4)\n",
            "Requirement already satisfied: tqdm in /usr/local/lib/python3.7/dist-packages (from gdown) (4.41.1)\n",
            "Requirement already satisfied: six in /usr/local/lib/python3.7/dist-packages (from gdown) (1.15.0)\n",
            "Requirement already satisfied: requests in /usr/local/lib/python3.7/dist-packages (from gdown) (2.23.0)\n",
            "Requirement already satisfied: certifi>=2017.4.17 in /usr/local/lib/python3.7/dist-packages (from requests->gdown) (2020.12.5)\n",
            "Requirement already satisfied: idna<3,>=2.5 in /usr/local/lib/python3.7/dist-packages (from requests->gdown) (2.10)\n",
            "Requirement already satisfied: urllib3!=1.25.0,!=1.25.1,<1.26,>=1.21.1 in /usr/local/lib/python3.7/dist-packages (from requests->gdown) (1.24.3)\n",
            "Requirement already satisfied: chardet<4,>=3.0.2 in /usr/local/lib/python3.7/dist-packages (from requests->gdown) (3.0.4)\n"
          ],
          "name": "stdout"
        }
      ]
    },
    {
      "cell_type": "code",
      "metadata": {
        "id": "WgRSnwL14iNq",
        "colab": {
          "base_uri": "https://localhost:8080/"
        },
        "outputId": "71c2bc83-ff8e-4fc5-ec83-408d55e478de"
      },
      "source": [
        "!gdown 'https://drive.google.com/uc?id=1TLmSvzHvTLLLMjMoQdkx6pBWon-4bli7'\n",
        "\n",
        "\n"
      ],
      "execution_count": 2,
      "outputs": [
        {
          "output_type": "stream",
          "text": [
            "Downloading...\n",
            "From: https://drive.google.com/uc?id=1TLmSvzHvTLLLMjMoQdkx6pBWon-4bli7\n",
            "To: /content/goodreads_book_works.json.gz\n",
            "74.9MB [00:00, 81.6MB/s]\n"
          ],
          "name": "stdout"
        }
      ]
    },
    {
      "cell_type": "code",
      "metadata": {
        "id": "2eZD5Ma1476H",
        "colab": {
          "base_uri": "https://localhost:8080/"
        },
        "outputId": "722abe8e-e71a-44b1-d6d4-93e63b392d03"
      },
      "source": [
        "!gdown 'https://drive.google.com/uc?id=19cdwyXwfXx_HDIgxXaHzH0mrx8nMyLvC'"
      ],
      "execution_count": 3,
      "outputs": [
        {
          "output_type": "stream",
          "text": [
            "Downloading...\n",
            "From: https://drive.google.com/uc?id=19cdwyXwfXx_HDIgxXaHzH0mrx8nMyLvC\n",
            "To: /content/goodreads_book_authors.json.gz\n",
            "17.9MB [00:00, 49.1MB/s]\n"
          ],
          "name": "stdout"
        }
      ]
    },
    {
      "cell_type": "code",
      "metadata": {
        "id": "opn8J5ap5Jsa",
        "colab": {
          "base_uri": "https://localhost:8080/"
        },
        "outputId": "31bd04bf-309e-44e9-c91d-91d20b3ff6dd"
      },
      "source": [
        "!gdown 'https://drive.google.com/uc?id=1op8D4e5BaxU2JcPUgxM3ZqrodajryFBb'"
      ],
      "execution_count": 4,
      "outputs": [
        {
          "output_type": "stream",
          "text": [
            "Downloading...\n",
            "From: https://drive.google.com/uc?id=1op8D4e5BaxU2JcPUgxM3ZqrodajryFBb\n",
            "To: /content/goodreads_book_series.json.gz\n",
            "28.3MB [00:00, 68.0MB/s]\n"
          ],
          "name": "stdout"
        }
      ]
    },
    {
      "cell_type": "code",
      "metadata": {
        "colab": {
          "base_uri": "https://localhost:8080/"
        },
        "id": "I0_dtWIp5PAt",
        "outputId": "949f060d-a2af-4db2-a223-8d2ad7eb512e"
      },
      "source": [
        "!gdown 'https://drive.google.com/uc?id=1LXpK1UfqtP89H1tYy0pBGHjYk8IhigUK'"
      ],
      "execution_count": 5,
      "outputs": [
        {
          "output_type": "stream",
          "text": [
            "Downloading...\n",
            "From: https://drive.google.com/uc?id=1LXpK1UfqtP89H1tYy0pBGHjYk8IhigUK\n",
            "To: /content/goodreads_books.json.gz\n",
            "2.08GB [00:19, 105MB/s]\n"
          ],
          "name": "stdout"
        }
      ]
    },
    {
      "cell_type": "code",
      "metadata": {
        "colab": {
          "base_uri": "https://localhost:8080/"
        },
        "id": "rHlWg84P5ebw",
        "outputId": "93b7fcd3-f87c-4ca5-d1c7-5670c76d9d5f"
      },
      "source": [
        "!gdown 'https://drive.google.com/uc?id=1CHTAaNwyzvbi1TR08MJrJ03BxA266Yxr'"
      ],
      "execution_count": 6,
      "outputs": [
        {
          "output_type": "stream",
          "text": [
            "Downloading...\n",
            "From: https://drive.google.com/uc?id=1CHTAaNwyzvbi1TR08MJrJ03BxA266Yxr\n",
            "To: /content/book_id_map.csv\n",
            "37.8MB [00:00, 91.3MB/s]\n"
          ],
          "name": "stdout"
        }
      ]
    },
    {
      "cell_type": "code",
      "metadata": {
        "colab": {
          "base_uri": "https://localhost:8080/"
        },
        "id": "U3BMKBxX5qce",
        "outputId": "075c06f8-2b1f-4c5d-a6ca-dba2916e234b"
      },
      "source": [
        "!gdown 'https://drive.google.com/uc?id=15ax-h0Oi_Oyee8gY_aAQN6odoijmiz6Q'"
      ],
      "execution_count": 7,
      "outputs": [
        {
          "output_type": "stream",
          "text": [
            "Downloading...\n",
            "From: https://drive.google.com/uc?id=15ax-h0Oi_Oyee8gY_aAQN6odoijmiz6Q\n",
            "To: /content/user_id_map.csv\n",
            "34.9MB [00:00, 95.9MB/s]\n"
          ],
          "name": "stdout"
        }
      ]
    },
    {
      "cell_type": "code",
      "metadata": {
        "colab": {
          "base_uri": "https://localhost:8080/"
        },
        "id": "heZweltz5wVS",
        "outputId": "1647383f-1449-423e-cfcd-dd20108ca900"
      },
      "source": [
        "!gdown 'https://drive.google.com/uc?id=1zmylV7XW2dfQVCLeg1LbllfQtHD2KUon'"
      ],
      "execution_count": 8,
      "outputs": [
        {
          "output_type": "stream",
          "text": [
            "Downloading...\n",
            "From: https://drive.google.com/uc?id=1zmylV7XW2dfQVCLeg1LbllfQtHD2KUon\n",
            "To: /content/goodreads_interactions.csv\n",
            "4.32GB [01:05, 66.1MB/s]\n"
          ],
          "name": "stdout"
        }
      ]
    },
    {
      "cell_type": "code",
      "metadata": {
        "colab": {
          "base_uri": "https://localhost:8080/"
        },
        "id": "MqtQ_4EPPYtB",
        "outputId": "0df4d5af-341c-4417-ce47-9ad85bed2624"
      },
      "source": [
        "!gdown 'https://drive.google.com/uc?id=1ah0_KpUterVi-AHxJ03iKD6O0NfbK0md'\n"
      ],
      "execution_count": 9,
      "outputs": [
        {
          "output_type": "stream",
          "text": [
            "Downloading...\n",
            "From: https://drive.google.com/uc?id=1ah0_KpUterVi-AHxJ03iKD6O0NfbK0md\n",
            "To: /content/goodreads_book_genres_initial.json.gz\n",
            "24.3MB [00:00, 36.4MB/s]\n"
          ],
          "name": "stdout"
        }
      ]
    },
    {
      "cell_type": "code",
      "metadata": {
        "colab": {
          "base_uri": "https://localhost:8080/"
        },
        "id": "oOhYQdGtRWBi",
        "outputId": "0fc12be9-f0df-4118-d029-e0d8160d4b3b"
      },
      "source": [
        "!gdown 'https://drive.google.com/uc?id=1pQnXa7DWLdeUpvUFsKusYzwbA5CAAZx7'\n"
      ],
      "execution_count": null,
      "outputs": [
        {
          "output_type": "stream",
          "text": [
            "Downloading...\n",
            "From: https://drive.google.com/uc?id=1pQnXa7DWLdeUpvUFsKusYzwbA5CAAZx7\n",
            "To: /content/goodreads_reviews_dedup.json.gz\n",
            "5.34GB [01:14, 71.6MB/s]\n"
          ],
          "name": "stdout"
        }
      ]
    },
    {
      "cell_type": "code",
      "metadata": {
        "id": "WjE461X551Na"
      },
      "source": [
        "import pandas as pd\n",
        "import numpy as np\n"
      ],
      "execution_count": null,
      "outputs": []
    },
    {
      "cell_type": "code",
      "metadata": {
        "id": "5iYZI-iE6YQn"
      },
      "source": [
        "def load_data(file_name, head = 500):\n",
        "    count = 0\n",
        "    data = []\n",
        "    with gzip.open(file_name) as fin:\n",
        "        for l in fin:\n",
        "            d = json.loads(l)\n",
        "            count += 1\n",
        "            data.append(d)\n",
        "            \n",
        "            # break if reaches the 100th line\n",
        "            if (head is not None) and (count > head):\n",
        "                break\n",
        "    return data"
      ],
      "execution_count": null,
      "outputs": []
    },
    {
      "cell_type": "markdown",
      "metadata": {
        "id": "ivBTQmxy_kcE"
      },
      "source": [
        "LOAD BOOKS DATA"
      ]
    },
    {
      "cell_type": "code",
      "metadata": {
        "id": "EP9A6PlC798y"
      },
      "source": [
        "import gzip\n",
        "import json\n",
        "import re\n",
        "import os\n",
        "import sys\n",
        "books = load_data(os.path.join('goodreads_books.json.gz'))\n",
        "books"
      ],
      "execution_count": null,
      "outputs": []
    },
    {
      "cell_type": "markdown",
      "metadata": {
        "id": "zj-vtzre_pSz"
      },
      "source": [
        "EXTRACT FEATURES FROM BOOKS DATA"
      ]
    },
    {
      "cell_type": "code",
      "metadata": {
        "id": "jbxSjp7sId-t"
      },
      "source": [
        "rating=[]\n",
        "book_id=[]\n",
        "title=[]\n",
        "pub_year=[]\n",
        "description=[]\n",
        "author_id=[]\n",
        "format= []\n",
        "country = []\n",
        "e_book =[]\n",
        "lang=[]\n",
        "publisher = []\n",
        "for i in books:\n",
        "  for j in i:\n",
        "    if j == 'average_rating':\n",
        "      rating.append(float(i[j]))\n",
        "    if j == 'book_id':\n",
        "      book_id.append(int(i[j]))\n",
        "    if j == 'description':\n",
        "      description.append(i[j])\n",
        "    if j == 'title':\n",
        "      title.append(i[j])\n",
        "    if j == 'format':\n",
        "      format.append(i[j])\n",
        "    if j == 'is_ebook':\n",
        "      e_book.append(i[j])\n",
        "    if j == 'language_code':\n",
        "      lang.append(i[j])\n",
        "    if j == 'publisher':\n",
        "      publisher.append(i[j])\n",
        "    if j == 'authors':\n",
        "      for k in i[j]:\n",
        "        for m in k:\n",
        "          if m == 'author_id':\n",
        "            author_id.append(int(k[m]))\n",
        "\n",
        "\n"
      ],
      "execution_count": null,
      "outputs": []
    },
    {
      "cell_type": "code",
      "metadata": {
        "id": "HM_OmFfCX7RX"
      },
      "source": [
        ""
      ],
      "execution_count": null,
      "outputs": []
    },
    {
      "cell_type": "code",
      "metadata": {
        "id": "fODlqNZlIeLL"
      },
      "source": [
        ""
      ],
      "execution_count": null,
      "outputs": []
    },
    {
      "cell_type": "code",
      "metadata": {
        "id": "ROg7P1saIeVs"
      },
      "source": [
        ""
      ],
      "execution_count": null,
      "outputs": []
    },
    {
      "cell_type": "code",
      "metadata": {
        "id": "Eu4qj28Tq1ot"
      },
      "source": [
        ""
      ],
      "execution_count": null,
      "outputs": []
    },
    {
      "cell_type": "code",
      "metadata": {
        "id": "s83XieUS1Apd"
      },
      "source": [
        ""
      ],
      "execution_count": null,
      "outputs": []
    },
    {
      "cell_type": "markdown",
      "metadata": {
        "id": "wrZkbKgZ_8Ik"
      },
      "source": [
        "LOAD AUTHORS DATA"
      ]
    },
    {
      "cell_type": "code",
      "metadata": {
        "id": "R-xmXfK48My4"
      },
      "source": [
        "authors = load_data(os.path.join('goodreads_book_authors.json.gz'))\n",
        "authors"
      ],
      "execution_count": null,
      "outputs": []
    },
    {
      "cell_type": "markdown",
      "metadata": {
        "id": "PSO2gIujABiE"
      },
      "source": [
        "EXTARCT AUTHOR FEATURES"
      ]
    },
    {
      "cell_type": "code",
      "metadata": {
        "id": "Nbk-4xF9UdBR"
      },
      "source": [
        "author_rating=[]\n",
        "for i in authors:\n",
        "  for j in i:\n",
        "    if j == 'average_rating':\n",
        "      author_rating.append(float(i[j]))\n",
        "len(author_rating)"
      ],
      "execution_count": null,
      "outputs": []
    },
    {
      "cell_type": "code",
      "metadata": {
        "id": "V1OM1CDIQISy"
      },
      "source": [
        "author_rating=[]\n",
        "author_name=[]\n",
        "for i in authors:\n",
        "  for j in i:\n",
        "    if j == 'average_rating':\n",
        "      author_rating.append(float(i[j]))\n",
        "    if j == 'name':\n",
        "      author_name.append(i[j])\n",
        "    if j == 'description':\n",
        "      description.append(i[j])\n",
        "    if j == 'title':\n",
        "      title.append(i[j])"
      ],
      "execution_count": null,
      "outputs": []
    },
    {
      "cell_type": "markdown",
      "metadata": {
        "id": "QKUjEBJ_ALld"
      },
      "source": [
        "CREATE DATAFRAME"
      ]
    },
    {
      "cell_type": "code",
      "metadata": {
        "id": "GqlDdGO7Rz54"
      },
      "source": [
        "df = pd.DataFrame(list(zip(book_id,title,description,rating,author_id,author_rating,lang,format)),columns=['book_id','title','description','rating','author_id','author_rating','language','format'])\n",
        "df"
      ],
      "execution_count": null,
      "outputs": []
    },
    {
      "cell_type": "markdown",
      "metadata": {
        "id": "XHYI7-CP_RsL"
      },
      "source": [
        "EXTRACT GENRE"
      ]
    },
    {
      "cell_type": "code",
      "metadata": {
        "id": "6eGwCoyTD7M3"
      },
      "source": [
        "genre = load_data(os.path.join('goodreads_book_genres_initial.json.gz'))\n",
        "genre"
      ],
      "execution_count": null,
      "outputs": []
    },
    {
      "cell_type": "code",
      "metadata": {
        "id": "FHgN5XSt_GQv"
      },
      "source": [
        "d=dict()\n",
        "\n",
        "df['genre']=\"\"\n",
        "def custom(id):\n",
        "  for i in genre:\n",
        "    for j in i['genres']: \n",
        "      if int(i['book_id']) == id:\n",
        "        return j.split(',')[0]\n",
        "    \n",
        "    \n",
        "        \n",
        "df['genre'] = df.apply(lambda x: custom(x['book_id']),axis=1)\n",
        "\n",
        "df "
      ],
      "execution_count": null,
      "outputs": []
    },
    {
      "cell_type": "code",
      "metadata": {
        "id": "UKGtf7M6ASOB"
      },
      "source": [
        "df['genre'].unique()"
      ],
      "execution_count": null,
      "outputs": []
    },
    {
      "cell_type": "code",
      "metadata": {
        "id": "7yLS4qZYauIr"
      },
      "source": [
        "import nltk\n",
        "from sklearn.metrics.pairwise import linear_kernel\n",
        "from sklearn.feature_extraction.text import CountVectorizer\n",
        "from sklearn.feature_extraction.text import TfidfVectorizer\n",
        "from nltk.tokenize import RegexpTokenizer\n",
        "import re\n",
        "import string\n",
        "\n",
        "import requests"
      ],
      "execution_count": null,
      "outputs": []
    },
    {
      "cell_type": "code",
      "metadata": {
        "id": "yJUF_KWujQ5_"
      },
      "source": [
        "nltk.download('stopwords')\n",
        "from nltk.corpus import stopwords"
      ],
      "execution_count": null,
      "outputs": []
    },
    {
      "cell_type": "code",
      "metadata": {
        "id": "KdtYe5EgfTxM"
      },
      "source": [
        "# Function for removing NonAscii characters\n",
        "def _removeNonAscii(s):\n",
        "    return \"\".join(i for i in s if  ord(i)<128)\n",
        "# Function for converting into lower case\n",
        "def make_lower_case(text):\n",
        "    return text.lower()\n",
        "# Function for removing stop words\n",
        "def remove_stop_words(text):\n",
        "    text = text.split()\n",
        "    stops = set(stopwords.words(\"english\"))\n",
        "    text = [w for w in text if not w in stops]\n",
        "    text = \" \".join(text)\n",
        "    return text\n",
        "# Function for removing punctuation\n",
        "def remove_punctuation(text):\n",
        "    tokenizer = RegexpTokenizer(r'\\w+')\n",
        "    text = tokenizer.tokenize(text)\n",
        "    text = \" \".join(text)\n",
        "    return text\n",
        "#Function for removing the html tags\n",
        "def remove_html(text):\n",
        "    html_pattern = re.compile('<.*?>')\n",
        "    return html_pattern.sub(r'', text)\n",
        "# Applying all the functions in description and storing as a desc\n",
        "df['desc'] = df['description'].apply(_removeNonAscii)\n",
        "df['desc'] = df.desc.apply(func = make_lower_case)\n",
        "df['desc'] = df.desc.apply(func = remove_stop_words)\n",
        "df['desc'] = df.desc.apply(func=remove_punctuation)\n",
        "df['desc'] = df.desc.apply(func=remove_html)\n",
        "\n",
        "df['format'] = df['format'].apply(_removeNonAscii)\n",
        "df['format'] = df.format.apply(func = make_lower_case)\n",
        "df['format'] = df.format.apply(func = remove_stop_words)\n",
        "df['format'] = df.format.apply(func=remove_punctuation)\n",
        "df['format'] = df.format.apply(func=remove_html)\n"
      ],
      "execution_count": null,
      "outputs": []
    },
    {
      "cell_type": "code",
      "metadata": {
        "id": "DgLGWNdcEcL2"
      },
      "source": [
        "df"
      ],
      "execution_count": null,
      "outputs": []
    },
    {
      "cell_type": "code",
      "metadata": {
        "id": "OKUSJwPpi-5Q"
      },
      "source": [
        "df"
      ],
      "execution_count": null,
      "outputs": []
    },
    {
      "cell_type": "code",
      "metadata": {
        "id": "v0FHU2y6kpKk"
      },
      "source": [
        "from sklearn.metrics.pairwise import cosine_similarity,cosine_distances"
      ],
      "execution_count": null,
      "outputs": []
    },
    {
      "cell_type": "markdown",
      "metadata": {
        "id": "RiAq-fAlAWu3"
      },
      "source": [
        "RECOMMEND BY DESCRIPTION"
      ]
    },
    {
      "cell_type": "code",
      "metadata": {
        "id": "XeqvfkEJjW4S"
      },
      "source": [
        "def recommend_d(title, genre):\n",
        "    data = df.loc[df['genre'] == genre]  \n",
        "    data.reset_index(level = 0, inplace = True) \n",
        "  \n",
        "    indices = pd.Series(data.index, index = data['title'])\n",
        "    tf = TfidfVectorizer(analyzer='word', ngram_range=(2, 2), min_df = 1, stop_words='english')\n",
        "    tfidf_matrix = tf.fit_transform(data['desc'])\n",
        "    sg = cosine_similarity(tfidf_matrix, tfidf_matrix)\n",
        "    idx = indices[title] \n",
        "    sig = list(enumerate(sg[idx]))\n",
        "    sig = sorted(sig, key=lambda x: x[1], reverse=True) \n",
        "    sig = sig[1:11]\n",
        "    movie_indices = [i[0] for i in sig]\n",
        "\n",
        "    rec_d = data[['title', 'book_id','genre']].iloc[movie_indices]\n",
        "    return rec_d\n",
        "    \n"
      ],
      "execution_count": null,
      "outputs": []
    },
    {
      "cell_type": "code",
      "metadata": {
        "id": "UewIL_TrkS06"
      },
      "source": [
        "recommend_d('Best Friends Forever','fiction')"
      ],
      "execution_count": null,
      "outputs": []
    },
    {
      "cell_type": "code",
      "metadata": {
        "id": "-KhRYrEpluF3"
      },
      "source": [
        "recommend_d('Captain America: Winter Soldier (The Ultimate Graphic Novels Collection: Publication Order, #7)','comics')\n"
      ],
      "execution_count": null,
      "outputs": []
    },
    {
      "cell_type": "code",
      "metadata": {
        "id": "Bgtra6XnpYSE"
      },
      "source": [
        ""
      ],
      "execution_count": null,
      "outputs": []
    },
    {
      "cell_type": "markdown",
      "metadata": {
        "id": "7tNEsro2Au0C"
      },
      "source": [
        "RECOMMEND BY TITLE"
      ]
    },
    {
      "cell_type": "code",
      "metadata": {
        "id": "2s97i57Q3pbn"
      },
      "source": [
        "def recommend_t(title, genre):\n",
        "\n",
        "    data = df.loc[df['genre'] == genre]  \n",
        "    data.reset_index(level = 0, inplace = True) \n",
        "    indices = pd.Series(data.index, index = data['title'])\n",
        "    \n",
        "    tf = TfidfVectorizer(analyzer='word', ngram_range=(2, 2), min_df = 1, stop_words='english')\n",
        "    tfidf_matrix = tf.fit_transform(data['title'])\n",
        "    \n",
        "    sg = cosine_similarity(tfidf_matrix, tfidf_matrix)\n",
        "    \n",
        "    idx = indices[title]\n",
        "    sig = list(enumerate(sg[idx]))\n",
        "    sig = sorted(sig, key=lambda x: x[1], reverse=True)\n",
        "    sig = sig[1:11]\n",
        "    movie_indices = [i[0] for i in sig]\n",
        "\n",
        "    rec_t = data[['title', 'book_id','genre']].iloc[movie_indices]\n",
        "    return rec_t\n",
        "\n",
        "\n",
        "\n",
        "\n",
        "\n",
        "       "
      ],
      "execution_count": null,
      "outputs": []
    },
    {
      "cell_type": "code",
      "metadata": {
        "id": "Dx-ICTeU5sjT"
      },
      "source": [
        "recommend_t('Captain America: Winter Soldier (The Ultimate Graphic Novels Collection: Publication Order, #7)','comics')"
      ],
      "execution_count": null,
      "outputs": []
    },
    {
      "cell_type": "code",
      "metadata": {
        "id": "4wBN7lXy5wSs"
      },
      "source": [
        "recommend_t('Irvin Cobb at His Best','fiction')"
      ],
      "execution_count": null,
      "outputs": []
    },
    {
      "cell_type": "code",
      "metadata": {
        "id": "4RJvpAhE6NFp"
      },
      "source": [
        "recommend_t('Best Friends Forever','fiction')"
      ],
      "execution_count": null,
      "outputs": []
    },
    {
      "cell_type": "markdown",
      "metadata": {
        "id": "RFDwnONkBFAN"
      },
      "source": [
        "FINAL RECOMMENDATON BASED ON TITLE AND DESCRIPTION "
      ]
    },
    {
      "cell_type": "code",
      "metadata": {
        "id": "D6KxjgX66SKZ"
      },
      "source": [
        "def recommend(title,genre):\n",
        "  l=[]\n",
        "  rec_t=recommend_t(title,genre)\n",
        "  rec_d=recommend_d(title,genre)\n",
        "  for i in rec_t['title']:\n",
        "    for j in rec_d['title']:\n",
        "      if i == j:\n",
        "        l.append(j)\n",
        "  return l"
      ],
      "execution_count": null,
      "outputs": []
    },
    {
      "cell_type": "code",
      "metadata": {
        "id": "rzz4yLvVFKAg"
      },
      "source": [
        "recommend('Best Friends Forever','fiction')"
      ],
      "execution_count": null,
      "outputs": []
    },
    {
      "cell_type": "code",
      "metadata": {
        "id": "ntXlDvbvFN58"
      },
      "source": [
        "recommend('Captain America: Winter Soldier (The Ultimate Graphic Novels Collection: Publication Order, #7)','comics')"
      ],
      "execution_count": null,
      "outputs": []
    },
    {
      "cell_type": "code",
      "metadata": {
        "id": "VU9M2QQtFkcu"
      },
      "source": [
        "recommend('W.C. Fields: A Life on Film','history')\n"
      ],
      "execution_count": null,
      "outputs": []
    },
    {
      "cell_type": "code",
      "metadata": {
        "id": "xfAs2S4ZFwDX"
      },
      "source": [
        ""
      ],
      "execution_count": null,
      "outputs": []
    }
  ]
}